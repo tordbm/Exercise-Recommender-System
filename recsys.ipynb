{
 "cells": [
  {
   "cell_type": "code",
   "execution_count": 141,
   "id": "f169cb74",
   "metadata": {},
   "outputs": [],
   "source": [
    "import pandas as pd\n",
    "import matplotlib.pyplot as plt"
   ]
  },
  {
   "cell_type": "code",
   "execution_count": 142,
   "id": "4001c30d",
   "metadata": {},
   "outputs": [
    {
     "data": {
      "text/html": [
       "<div>\n",
       "<style scoped>\n",
       "    .dataframe tbody tr th:only-of-type {\n",
       "        vertical-align: middle;\n",
       "    }\n",
       "\n",
       "    .dataframe tbody tr th {\n",
       "        vertical-align: top;\n",
       "    }\n",
       "\n",
       "    .dataframe thead th {\n",
       "        text-align: right;\n",
       "    }\n",
       "</style>\n",
       "<table border=\"1\" class=\"dataframe\">\n",
       "  <thead>\n",
       "    <tr style=\"text-align: right;\">\n",
       "      <th></th>\n",
       "      <th>Unnamed: 0</th>\n",
       "      <th>Title</th>\n",
       "      <th>Desc</th>\n",
       "      <th>Type</th>\n",
       "      <th>BodyPart</th>\n",
       "      <th>Equipment</th>\n",
       "      <th>Level</th>\n",
       "      <th>Rating</th>\n",
       "      <th>RatingDesc</th>\n",
       "    </tr>\n",
       "  </thead>\n",
       "  <tbody>\n",
       "    <tr>\n",
       "      <th>0</th>\n",
       "      <td>0</td>\n",
       "      <td>Partner plank band row</td>\n",
       "      <td>The partner plank band row is an abdominal exe...</td>\n",
       "      <td>Strength</td>\n",
       "      <td>Abdominals</td>\n",
       "      <td>Bands</td>\n",
       "      <td>Intermediate</td>\n",
       "      <td>0.0</td>\n",
       "      <td>NaN</td>\n",
       "    </tr>\n",
       "    <tr>\n",
       "      <th>1</th>\n",
       "      <td>1</td>\n",
       "      <td>Banded crunch isometric hold</td>\n",
       "      <td>The banded crunch isometric hold is an exercis...</td>\n",
       "      <td>Strength</td>\n",
       "      <td>Abdominals</td>\n",
       "      <td>Bands</td>\n",
       "      <td>Intermediate</td>\n",
       "      <td>NaN</td>\n",
       "      <td>NaN</td>\n",
       "    </tr>\n",
       "    <tr>\n",
       "      <th>2</th>\n",
       "      <td>2</td>\n",
       "      <td>FYR Banded Plank Jack</td>\n",
       "      <td>The banded plank jack is a variation on the pl...</td>\n",
       "      <td>Strength</td>\n",
       "      <td>Abdominals</td>\n",
       "      <td>Bands</td>\n",
       "      <td>Intermediate</td>\n",
       "      <td>NaN</td>\n",
       "      <td>NaN</td>\n",
       "    </tr>\n",
       "    <tr>\n",
       "      <th>3</th>\n",
       "      <td>3</td>\n",
       "      <td>Banded crunch</td>\n",
       "      <td>The banded crunch is an exercise targeting the...</td>\n",
       "      <td>Strength</td>\n",
       "      <td>Abdominals</td>\n",
       "      <td>Bands</td>\n",
       "      <td>Intermediate</td>\n",
       "      <td>NaN</td>\n",
       "      <td>NaN</td>\n",
       "    </tr>\n",
       "    <tr>\n",
       "      <th>4</th>\n",
       "      <td>4</td>\n",
       "      <td>Crunch</td>\n",
       "      <td>The crunch is a popular core exercise targetin...</td>\n",
       "      <td>Strength</td>\n",
       "      <td>Abdominals</td>\n",
       "      <td>Bands</td>\n",
       "      <td>Intermediate</td>\n",
       "      <td>NaN</td>\n",
       "      <td>NaN</td>\n",
       "    </tr>\n",
       "    <tr>\n",
       "      <th>...</th>\n",
       "      <td>...</td>\n",
       "      <td>...</td>\n",
       "      <td>...</td>\n",
       "      <td>...</td>\n",
       "      <td>...</td>\n",
       "      <td>...</td>\n",
       "      <td>...</td>\n",
       "      <td>...</td>\n",
       "      <td>...</td>\n",
       "    </tr>\n",
       "    <tr>\n",
       "      <th>2913</th>\n",
       "      <td>2913</td>\n",
       "      <td>EZ-bar skullcrusher-</td>\n",
       "      <td>The EZ-bar skullcrusher is a popular exercise ...</td>\n",
       "      <td>Strength</td>\n",
       "      <td>Triceps</td>\n",
       "      <td>E-Z Curl Bar</td>\n",
       "      <td>Intermediate</td>\n",
       "      <td>8.1</td>\n",
       "      <td>Average</td>\n",
       "    </tr>\n",
       "    <tr>\n",
       "      <th>2914</th>\n",
       "      <td>2914</td>\n",
       "      <td>Lying Close-Grip Barbell Triceps Press To Chin</td>\n",
       "      <td>NaN</td>\n",
       "      <td>Strength</td>\n",
       "      <td>Triceps</td>\n",
       "      <td>E-Z Curl Bar</td>\n",
       "      <td>Beginner</td>\n",
       "      <td>8.1</td>\n",
       "      <td>Average</td>\n",
       "    </tr>\n",
       "    <tr>\n",
       "      <th>2915</th>\n",
       "      <td>2915</td>\n",
       "      <td>EZ-Bar Skullcrusher - Gethin Variation</td>\n",
       "      <td>The EZ-bar skullcrusher is a popular exercise ...</td>\n",
       "      <td>Strength</td>\n",
       "      <td>Triceps</td>\n",
       "      <td>E-Z Curl Bar</td>\n",
       "      <td>Intermediate</td>\n",
       "      <td>NaN</td>\n",
       "      <td>NaN</td>\n",
       "    </tr>\n",
       "    <tr>\n",
       "      <th>2916</th>\n",
       "      <td>2916</td>\n",
       "      <td>TBS Skullcrusher</td>\n",
       "      <td>The EZ-bar skullcrusher is a popular exercise ...</td>\n",
       "      <td>Strength</td>\n",
       "      <td>Triceps</td>\n",
       "      <td>E-Z Curl Bar</td>\n",
       "      <td>Intermediate</td>\n",
       "      <td>NaN</td>\n",
       "      <td>NaN</td>\n",
       "    </tr>\n",
       "    <tr>\n",
       "      <th>2917</th>\n",
       "      <td>2917</td>\n",
       "      <td>30 Arms EZ-Bar Skullcrusher</td>\n",
       "      <td>NaN</td>\n",
       "      <td>Strength</td>\n",
       "      <td>Triceps</td>\n",
       "      <td>E-Z Curl Bar</td>\n",
       "      <td>Intermediate</td>\n",
       "      <td>NaN</td>\n",
       "      <td>NaN</td>\n",
       "    </tr>\n",
       "  </tbody>\n",
       "</table>\n",
       "<p>2918 rows × 9 columns</p>\n",
       "</div>"
      ],
      "text/plain": [
       "      Unnamed: 0                                           Title  \\\n",
       "0              0                          Partner plank band row   \n",
       "1              1                    Banded crunch isometric hold   \n",
       "2              2                           FYR Banded Plank Jack   \n",
       "3              3                                   Banded crunch   \n",
       "4              4                                          Crunch   \n",
       "...          ...                                             ...   \n",
       "2913        2913                            EZ-bar skullcrusher-   \n",
       "2914        2914  Lying Close-Grip Barbell Triceps Press To Chin   \n",
       "2915        2915          EZ-Bar Skullcrusher - Gethin Variation   \n",
       "2916        2916                                TBS Skullcrusher   \n",
       "2917        2917                     30 Arms EZ-Bar Skullcrusher   \n",
       "\n",
       "                                                   Desc      Type    BodyPart  \\\n",
       "0     The partner plank band row is an abdominal exe...  Strength  Abdominals   \n",
       "1     The banded crunch isometric hold is an exercis...  Strength  Abdominals   \n",
       "2     The banded plank jack is a variation on the pl...  Strength  Abdominals   \n",
       "3     The banded crunch is an exercise targeting the...  Strength  Abdominals   \n",
       "4     The crunch is a popular core exercise targetin...  Strength  Abdominals   \n",
       "...                                                 ...       ...         ...   \n",
       "2913  The EZ-bar skullcrusher is a popular exercise ...  Strength     Triceps   \n",
       "2914                                                NaN  Strength     Triceps   \n",
       "2915  The EZ-bar skullcrusher is a popular exercise ...  Strength     Triceps   \n",
       "2916  The EZ-bar skullcrusher is a popular exercise ...  Strength     Triceps   \n",
       "2917                                                NaN  Strength     Triceps   \n",
       "\n",
       "         Equipment         Level  Rating RatingDesc  \n",
       "0            Bands  Intermediate     0.0        NaN  \n",
       "1            Bands  Intermediate     NaN        NaN  \n",
       "2            Bands  Intermediate     NaN        NaN  \n",
       "3            Bands  Intermediate     NaN        NaN  \n",
       "4            Bands  Intermediate     NaN        NaN  \n",
       "...            ...           ...     ...        ...  \n",
       "2913  E-Z Curl Bar  Intermediate     8.1    Average  \n",
       "2914  E-Z Curl Bar      Beginner     8.1    Average  \n",
       "2915  E-Z Curl Bar  Intermediate     NaN        NaN  \n",
       "2916  E-Z Curl Bar  Intermediate     NaN        NaN  \n",
       "2917  E-Z Curl Bar  Intermediate     NaN        NaN  \n",
       "\n",
       "[2918 rows x 9 columns]"
      ]
     },
     "execution_count": 142,
     "metadata": {},
     "output_type": "execute_result"
    }
   ],
   "source": [
    "# Importing the dataset\n",
    "df = pd.read_csv(\"megaGymDataset.csv\")\n",
    "df"
   ]
  },
  {
   "cell_type": "code",
   "execution_count": 143,
   "id": "2fd33a06",
   "metadata": {},
   "outputs": [
    {
     "data": {
      "text/plain": [
       "Unnamed: 0       0\n",
       "Title            0\n",
       "Desc          1550\n",
       "Type             0\n",
       "BodyPart         0\n",
       "Equipment        0\n",
       "Level            0\n",
       "Rating        1887\n",
       "RatingDesc    2056\n",
       "dtype: int64"
      ]
     },
     "execution_count": 143,
     "metadata": {},
     "output_type": "execute_result"
    }
   ],
   "source": [
    "#Cheking if there is any NULL or missing values\n",
    "df.isna().sum()"
   ]
  },
  {
   "cell_type": "code",
   "execution_count": 144,
   "id": "55ae6ec9",
   "metadata": {},
   "outputs": [
    {
     "data": {
      "text/plain": [
       "0          0\n",
       "1          1\n",
       "2          2\n",
       "3          3\n",
       "4          4\n",
       "        ... \n",
       "2911    2911\n",
       "2912    2912\n",
       "2913    2913\n",
       "2915    2915\n",
       "2916    2916\n",
       "Name: Unnamed: 0, Length: 1368, dtype: int64"
      ]
     },
     "execution_count": 144,
     "metadata": {},
     "output_type": "execute_result"
    }
   ],
   "source": [
    "# Removing columns with lots of nonvalues\n",
    "df = df.drop('Rating', axis=1)\n",
    "df = df.drop('RatingDesc', axis=1)\n",
    "# Removing all rows containing nonvalues in description\n",
    "df = df[df['Desc'].notna()]\n",
    "# Removing ID column\n",
    "df.pop(df.columns[0])\n",
    "\n"
   ]
  },
  {
   "cell_type": "code",
   "execution_count": 145,
   "id": "d61d5987",
   "metadata": {},
   "outputs": [
    {
     "data": {
      "text/plain": [
       "Title        object\n",
       "Desc         object\n",
       "Type         object\n",
       "BodyPart     object\n",
       "Equipment    object\n",
       "Level        object\n",
       "dtype: object"
      ]
     },
     "execution_count": 145,
     "metadata": {},
     "output_type": "execute_result"
    }
   ],
   "source": [
    "# Checking datatypes\n",
    "df.dtypes"
   ]
  },
  {
   "cell_type": "code",
   "execution_count": 146,
   "id": "f2546d29",
   "metadata": {},
   "outputs": [],
   "source": [
    "# Merging columns for cosign similarity and dropping excess columns\n",
    "df[\"Merged\"] = df[\"Type\"].astype(str) + '|' + \\\n",
    "  df[\"BodyPart\"].astype(str) + '|' + df[\"Equipment\"].astype(str) + '|' + \\\n",
    "  df[\"Level\"]\n",
    "\n",
    "df = df.drop('Type', axis=1)\n",
    "df = df.drop('BodyPart', axis=1)\n",
    "df = df.drop('Equipment', axis=1)\n",
    "df = df.drop('Level', axis=1)"
   ]
  },
  {
   "cell_type": "code",
   "execution_count": 147,
   "id": "9a6dd1c5",
   "metadata": {},
   "outputs": [
    {
     "data": {
      "text/plain": [
       "0           Strength|Abdominals|Bands|Intermediate\n",
       "1           Strength|Abdominals|Bands|Intermediate\n",
       "2           Strength|Abdominals|Bands|Intermediate\n",
       "3           Strength|Abdominals|Bands|Intermediate\n",
       "4           Strength|Abdominals|Bands|Intermediate\n",
       "                           ...                    \n",
       "2911    Strength|Triceps|E-Z Curl Bar|Intermediate\n",
       "2912    Strength|Triceps|E-Z Curl Bar|Intermediate\n",
       "2913    Strength|Triceps|E-Z Curl Bar|Intermediate\n",
       "2915    Strength|Triceps|E-Z Curl Bar|Intermediate\n",
       "2916    Strength|Triceps|E-Z Curl Bar|Intermediate\n",
       "Name: Merged, Length: 1368, dtype: object"
      ]
     },
     "execution_count": 147,
     "metadata": {},
     "output_type": "execute_result"
    }
   ],
   "source": [
    "# The merged columns\n",
    "df[\"Merged\"]"
   ]
  },
  {
   "cell_type": "code",
   "execution_count": 148,
   "id": "dfb7e4ee",
   "metadata": {},
   "outputs": [],
   "source": [
    "# Converting values of the merged column into vectors\n",
    "\n",
    "from sklearn.feature_extraction.text import CountVectorizer\n",
    "count = CountVectorizer()\n",
    "count_matrix = count.fit_transform(df.loc[:,\"Merged\"])\n",
    "\n",
    "liste = count_matrix.toarray()"
   ]
  },
  {
   "cell_type": "code",
   "execution_count": 149,
   "id": "30da5135",
   "metadata": {},
   "outputs": [],
   "source": [
    "# Cosine similarity\n",
    "from sklearn.metrics.pairwise import cosine_similarity\n",
    "sim_matrix = cosine_similarity(count_matrix, count_matrix)"
   ]
  },
  {
   "cell_type": "code",
   "execution_count": 150,
   "id": "c728acee",
   "metadata": {},
   "outputs": [],
   "source": [
    "#sim_matrix"
   ]
  },
  {
   "cell_type": "code",
   "execution_count": 151,
   "id": "d8bf3c95",
   "metadata": {},
   "outputs": [],
   "source": [
    "# Resetting the index to avoid indexing errors and NAN values in recommender\n",
    "# This makes the previous indexes invalid\n",
    "# \"drop\" avoids adding the old index as a column\n",
    "df = df.reset_index(drop = False)"
   ]
  },
  {
   "cell_type": "code",
   "execution_count": 152,
   "id": "46fe3aca",
   "metadata": {},
   "outputs": [],
   "source": [
    "def recommender(data_frame, exercise_id, sim_matrix):\n",
    "    sim_df = pd.DataFrame(sim_matrix[exercise_id],\n",
    "                         columns=[\"similarity\"])\n",
    "    exercise_titles = data_frame.loc[:, \"Title\"]\n",
    "    exercise_rec = pd.concat([sim_df, exercise_titles], axis = 1)\n",
    "\n",
    "    exercise_rec = exercise_rec.sort_values(by=[\"similarity\"], ascending = False)\n",
    "\n",
    "    return exercise_rec.iloc[1:20,:]"
   ]
  },
  {
   "cell_type": "code",
   "execution_count": 153,
   "id": "68d7fc4a",
   "metadata": {},
   "outputs": [
    {
     "name": "stdout",
     "output_type": "stream",
     "text": [
      "     index        Title                                               Desc  \\\n",
      "454    942  Bench press  The bench press is a popular barbell exercise ...   \n",
      "\n",
      "                                  Merged  \n",
      "454  Strength|Chest|Barbell|Intermediate  \n"
     ]
    }
   ],
   "source": [
    "# Prints the row of the given Title to find the index\n",
    "print(df[df[\"Title\"] == \"Bench press\"])"
   ]
  },
  {
   "cell_type": "code",
   "execution_count": 154,
   "id": "c691750a",
   "metadata": {},
   "outputs": [
    {
     "data": {
      "text/html": [
       "<div>\n",
       "<style scoped>\n",
       "    .dataframe tbody tr th:only-of-type {\n",
       "        vertical-align: middle;\n",
       "    }\n",
       "\n",
       "    .dataframe tbody tr th {\n",
       "        vertical-align: top;\n",
       "    }\n",
       "\n",
       "    .dataframe thead th {\n",
       "        text-align: right;\n",
       "    }\n",
       "</style>\n",
       "<table border=\"1\" class=\"dataframe\">\n",
       "  <thead>\n",
       "    <tr style=\"text-align: right;\">\n",
       "      <th></th>\n",
       "      <th>similarity</th>\n",
       "      <th>Title</th>\n",
       "    </tr>\n",
       "  </thead>\n",
       "  <tbody>\n",
       "    <tr>\n",
       "      <th>459</th>\n",
       "      <td>1.00</td>\n",
       "      <td>King Maker Barbell Bench Press</td>\n",
       "    </tr>\n",
       "    <tr>\n",
       "      <th>445</th>\n",
       "      <td>1.00</td>\n",
       "      <td>Barbell Bench Press - Medium Grip</td>\n",
       "    </tr>\n",
       "    <tr>\n",
       "      <th>446</th>\n",
       "      <td>1.00</td>\n",
       "      <td>Decline barbell bench press</td>\n",
       "    </tr>\n",
       "    <tr>\n",
       "      <th>448</th>\n",
       "      <td>1.00</td>\n",
       "      <td>Barbell Incline Bench Press Medium-Grip</td>\n",
       "    </tr>\n",
       "    <tr>\n",
       "      <th>452</th>\n",
       "      <td>1.00</td>\n",
       "      <td>Paul Carter Incline Bench Press</td>\n",
       "    </tr>\n",
       "    <tr>\n",
       "      <th>453</th>\n",
       "      <td>1.00</td>\n",
       "      <td>Incline bench press</td>\n",
       "    </tr>\n",
       "    <tr>\n",
       "      <th>455</th>\n",
       "      <td>1.00</td>\n",
       "      <td>TBS Close-Grip Bench Press</td>\n",
       "    </tr>\n",
       "    <tr>\n",
       "      <th>456</th>\n",
       "      <td>1.00</td>\n",
       "      <td>AM Flat Bench Barbell Press</td>\n",
       "    </tr>\n",
       "    <tr>\n",
       "      <th>457</th>\n",
       "      <td>1.00</td>\n",
       "      <td>UP Bench Press</td>\n",
       "    </tr>\n",
       "    <tr>\n",
       "      <th>458</th>\n",
       "      <td>1.00</td>\n",
       "      <td>UP Close-Grip Bench Press</td>\n",
       "    </tr>\n",
       "    <tr>\n",
       "      <th>444</th>\n",
       "      <td>1.00</td>\n",
       "      <td>Close-grip bench press</td>\n",
       "    </tr>\n",
       "    <tr>\n",
       "      <th>460</th>\n",
       "      <td>1.00</td>\n",
       "      <td>King Maker Incline Barbell Bench Press</td>\n",
       "    </tr>\n",
       "    <tr>\n",
       "      <th>461</th>\n",
       "      <td>1.00</td>\n",
       "      <td>Spoto press</td>\n",
       "    </tr>\n",
       "    <tr>\n",
       "      <th>1136</th>\n",
       "      <td>0.75</td>\n",
       "      <td>Standing barbell shoulder press</td>\n",
       "    </tr>\n",
       "    <tr>\n",
       "      <th>1135</th>\n",
       "      <td>0.75</td>\n",
       "      <td>AM Barbell Shoulder Press</td>\n",
       "    </tr>\n",
       "    <tr>\n",
       "      <th>1134</th>\n",
       "      <td>0.75</td>\n",
       "      <td>AM Upright Row</td>\n",
       "    </tr>\n",
       "    <tr>\n",
       "      <th>1133</th>\n",
       "      <td>0.75</td>\n",
       "      <td>Single-arm barbell lateral raise</td>\n",
       "    </tr>\n",
       "    <tr>\n",
       "      <th>1132</th>\n",
       "      <td>0.75</td>\n",
       "      <td>Barbell Front Raise - Gethin Variation</td>\n",
       "    </tr>\n",
       "    <tr>\n",
       "      <th>1131</th>\n",
       "      <td>0.75</td>\n",
       "      <td>Incline Front Barbell Raise - Gethin Variation</td>\n",
       "    </tr>\n",
       "  </tbody>\n",
       "</table>\n",
       "</div>"
      ],
      "text/plain": [
       "      similarity                                           Title\n",
       "459         1.00                  King Maker Barbell Bench Press\n",
       "445         1.00               Barbell Bench Press - Medium Grip\n",
       "446         1.00                     Decline barbell bench press\n",
       "448         1.00         Barbell Incline Bench Press Medium-Grip\n",
       "452         1.00                 Paul Carter Incline Bench Press\n",
       "453         1.00                             Incline bench press\n",
       "455         1.00                      TBS Close-Grip Bench Press\n",
       "456         1.00                     AM Flat Bench Barbell Press\n",
       "457         1.00                                  UP Bench Press\n",
       "458         1.00                       UP Close-Grip Bench Press\n",
       "444         1.00                          Close-grip bench press\n",
       "460         1.00          King Maker Incline Barbell Bench Press\n",
       "461         1.00                                     Spoto press\n",
       "1136        0.75                 Standing barbell shoulder press\n",
       "1135        0.75                       AM Barbell Shoulder Press\n",
       "1134        0.75                                  AM Upright Row\n",
       "1133        0.75                Single-arm barbell lateral raise\n",
       "1132        0.75          Barbell Front Raise - Gethin Variation\n",
       "1131        0.75  Incline Front Barbell Raise - Gethin Variation"
      ]
     },
     "execution_count": 154,
     "metadata": {},
     "output_type": "execute_result"
    }
   ],
   "source": [
    "# Exercises similar to bench press\n",
    "recommender(df, 454, sim_matrix)"
   ]
  },
  {
   "cell_type": "code",
   "execution_count": 155,
   "id": "38ab5e67",
   "metadata": {},
   "outputs": [],
   "source": [
    "from sklearn.feature_extraction.text import TfidfVectorizer\n",
    "from sklearn.metrics.pairwise import linear_kernel"
   ]
  },
  {
   "cell_type": "code",
   "execution_count": 156,
   "id": "7f164120",
   "metadata": {},
   "outputs": [
    {
     "data": {
      "text/plain": [
       "(1368, 1918)"
      ]
     },
     "execution_count": 156,
     "metadata": {},
     "output_type": "execute_result"
    }
   ],
   "source": [
    "tfidf = TfidfVectorizer(stop_words=\"english\")\n",
    "overview_matrix = tfidf.fit_transform(df[\"Desc\"])\n",
    "overview_matrix.shape"
   ]
  },
  {
   "cell_type": "code",
   "execution_count": 157,
   "id": "6ad874e7",
   "metadata": {},
   "outputs": [
    {
     "name": "stdout",
     "output_type": "stream",
     "text": [
      "[[1.         0.15336265 0.1591873  0.16544597 0.12342733]\n",
      " [0.15336265 1.         0.13065926 0.9269652  0.21069478]\n",
      " [0.1591873  0.13065926 1.         0.14095379 0.0042808 ]\n",
      " [0.16544597 0.9269652  0.14095379 1.         0.22729524]\n",
      " [0.12342733 0.21069478 0.0042808  0.22729524 1.        ]]\n"
     ]
    }
   ],
   "source": [
    "similarity_matrix = linear_kernel(overview_matrix, overview_matrix)\n",
    "print(similarity_matrix[0:5,0:5])"
   ]
  },
  {
   "cell_type": "code",
   "execution_count": 158,
   "id": "ccfff244",
   "metadata": {},
   "outputs": [
    {
     "data": {
      "text/plain": [
       "Desc\n",
       "The partner plank band row is an abdominal exercise where two partners perform single-arm planks while pulling on the opposite ends of an exercise band. This technique can be done for time or reps in any ab-focused workout.                                                                                                                                                0\n",
       "The banded crunch isometric hold is an exercise targeting the abdominal muscles, particularly the rectus abdominis or \"six-pack\" muscles. The band adds resistance and continuous tension to this popular exercise.                                                                                                                                                            1\n",
       "The banded plank jack is a variation on the plank that involves moving the legs in and out for repetitions. Having a band around the thighs forces the lower body to work harder, particularly the hips and glutes. The plank jack is commonly performed as part of a bodyweight circuit, or as part of a dynamic warm-up.                                                     2\n",
       "The banded crunch is an exercise targeting the abdominal muscles, particularly the rectus abdominis or \"six-pack\" muscles. The band adds resistance and continuous tension to this popular exercise.                                                                                                                                                                           3\n",
       "The crunch is a popular core exercise targeting the rectus abdominis, or \"six-pack\" muscles, as well as the obliques. It has been the centerpiece of many ab-focused workouts, due to both its simplicity and the intense burn and mind-muscle connection it produces. It can be performed for time or reps as part of the ab-focused portion of any workout.                  4\n",
       "                                                                                                                                                                                                                                                                                                                                                                            ... \n",
       "The decline EZ-bar skullcrusher is a popular exercise targeting the triceps muscles. The angle of the bench creates a greater range of motion than flat bench skullcrushers, as well as targeting the lateral head of the muscle. This exercise is usually performed for moderate to high reps as part of an upper-body or arm-focused workout.                             1363\n",
       "The EZ-bar skullcrusher is a popular exercise targeting the triceps muscles. The EZ-bar is used more often than a straight bar. As for the name, that’s worst-case scenario. The bar should actually come down behind the head. It is usually performed for moderate to high reps as part of an upper body or arms-focused workout. No need to chase a 1RM on this move!    1364\n",
       "The EZ-bar skullcrusher is a popular exercise targeting the triceps muscles. Contrary to what the name implies, the bar should actually come down behind the head. It is usually performed for moderate to high reps as part of an upper-body or arms-focused workout.                                                                                                      1365\n",
       "The EZ-bar skullcrusher is a popular exercise targeting the triceps muscles. The EZ-bar is used more often than a straight bar. As for the name, that’s worst-case scenario. The bar should actually come down behind the head. It is usually performed for moderate to high reps as part of an upper body or arms-focused workout. No need to chase a 1RM on this move!    1366\n",
       "The EZ-bar skullcrusher is a popular exercise targeting the triceps muscles. The EZ-bar is used more often than a straight bar. As for the name, that’s worst-case scenario. The bar should actually come down behind the head. It is usually performed for moderate to high reps as part of an upper body or arms-focused workout. No need to chase a 1RM on this move!    1367\n",
       "Length: 1368, dtype: int64"
      ]
     },
     "execution_count": 158,
     "metadata": {},
     "output_type": "execute_result"
    }
   ],
   "source": [
    "mapping = pd.Series(df.index, index = df[\"Desc\"])\n",
    "mapping"
   ]
  },
  {
   "cell_type": "code",
   "execution_count": 159,
   "id": "c9452c47",
   "metadata": {},
   "outputs": [],
   "source": [
    "def recommender_by_desc(exercise_input):\n",
    "    exercise_index = mapping[exercise_input]\n",
    "    similarity_score = list(enumerate(similarity_matrix[exercise_index]))\n",
    "    similarity_score = sorted(similarity_score, key=lambda x: x[1], reverse=True)\n",
    "    similarity_score = similarity_score[0:5]\n",
    "\n",
    "    exercise_indices = [i[0] for i in similarity_score]\n",
    "    return df[\"Desc\"].iloc[exercise_indices]"
   ]
  },
  {
   "cell_type": "code",
   "execution_count": 160,
   "id": "d2e9db8f",
   "metadata": {},
   "outputs": [
    {
     "data": {
      "text/plain": [
       "0      The partner plank band row is an abdominal exe...\n",
       "795    The partner side plank band row is an abdomina...\n",
       "332    The standing band biceps curl is an arm-focuse...\n",
       "844    The band seated row is a band alternative to t...\n",
       "182    The plank up-down is a variation of the plank ...\n",
       "Name: Desc, dtype: object"
      ]
     },
     "execution_count": 160,
     "metadata": {},
     "output_type": "execute_result"
    }
   ],
   "source": [
    "recommender_by_desc(df[\"Desc\"][0])"
   ]
  },
  {
   "cell_type": "code",
   "execution_count": 161,
   "id": "ef7dcc27",
   "metadata": {},
   "outputs": [
    {
     "data": {
      "text/html": [
       "<div>\n",
       "<style scoped>\n",
       "    .dataframe tbody tr th:only-of-type {\n",
       "        vertical-align: middle;\n",
       "    }\n",
       "\n",
       "    .dataframe tbody tr th {\n",
       "        vertical-align: top;\n",
       "    }\n",
       "\n",
       "    .dataframe thead th {\n",
       "        text-align: right;\n",
       "    }\n",
       "</style>\n",
       "<table border=\"1\" class=\"dataframe\">\n",
       "  <thead>\n",
       "    <tr style=\"text-align: right;\">\n",
       "      <th></th>\n",
       "      <th>userId</th>\n",
       "      <th>title</th>\n",
       "      <th>rating</th>\n",
       "    </tr>\n",
       "  </thead>\n",
       "  <tbody>\n",
       "    <tr>\n",
       "      <th>0</th>\n",
       "      <td>1</td>\n",
       "      <td>AM Decline Abs</td>\n",
       "      <td>4.6</td>\n",
       "    </tr>\n",
       "    <tr>\n",
       "      <th>1</th>\n",
       "      <td>1</td>\n",
       "      <td>Skip</td>\n",
       "      <td>4.3</td>\n",
       "    </tr>\n",
       "    <tr>\n",
       "      <th>2</th>\n",
       "      <td>1</td>\n",
       "      <td>Child's pose</td>\n",
       "      <td>2.5</td>\n",
       "    </tr>\n",
       "    <tr>\n",
       "      <th>3</th>\n",
       "      <td>1</td>\n",
       "      <td>Barbell glute bridge</td>\n",
       "      <td>4.6</td>\n",
       "    </tr>\n",
       "    <tr>\n",
       "      <th>4</th>\n",
       "      <td>1</td>\n",
       "      <td>Tire flip</td>\n",
       "      <td>3.7</td>\n",
       "    </tr>\n",
       "  </tbody>\n",
       "</table>\n",
       "</div>"
      ],
      "text/plain": [
       "   userId                 title  rating\n",
       "0       1        AM Decline Abs     4.6\n",
       "1       1                  Skip     4.3\n",
       "2       1          Child's pose     2.5\n",
       "3       1  Barbell glute bridge     4.6\n",
       "4       1             Tire flip     3.7"
      ]
     },
     "execution_count": 161,
     "metadata": {},
     "output_type": "execute_result"
    }
   ],
   "source": [
    "df_users = pd.read_csv('user_exercise_ratings.csv')\n",
    "\n",
    "df_users.head()"
   ]
  }
 ],
 "metadata": {
  "kernelspec": {
   "display_name": "Python 3 (ipykernel)",
   "language": "python",
   "name": "python3"
  },
  "language_info": {
   "codemirror_mode": {
    "name": "ipython",
    "version": 3
   },
   "file_extension": ".py",
   "mimetype": "text/x-python",
   "name": "python",
   "nbconvert_exporter": "python",
   "pygments_lexer": "ipython3",
   "version": "3.11.4"
  }
 },
 "nbformat": 4,
 "nbformat_minor": 5
}
