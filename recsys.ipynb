{
 "cells": [
  {
   "cell_type": "code",
<<<<<<< Updated upstream
   "execution_count": 1,
=======
   "execution_count": 1988,
>>>>>>> Stashed changes
   "id": "f169cb74",
   "metadata": {},
   "outputs": [],
   "source": [
    "import pandas as pd\n",
    "import matplotlib.pyplot as plt"
   ]
  },
  {
   "cell_type": "code",
<<<<<<< Updated upstream
   "execution_count": 2,
=======
   "execution_count": 1989,
>>>>>>> Stashed changes
   "id": "4001c30d",
   "metadata": {},
   "outputs": [
    {
     "data": {
      "text/html": [
       "<div>\n",
       "<style scoped>\n",
       "    .dataframe tbody tr th:only-of-type {\n",
       "        vertical-align: middle;\n",
       "    }\n",
       "\n",
       "    .dataframe tbody tr th {\n",
       "        vertical-align: top;\n",
       "    }\n",
       "\n",
       "    .dataframe thead th {\n",
       "        text-align: right;\n",
       "    }\n",
       "</style>\n",
       "<table border=\"1\" class=\"dataframe\">\n",
       "  <thead>\n",
       "    <tr style=\"text-align: right;\">\n",
       "      <th></th>\n",
<<<<<<< Updated upstream
       "      <th>Unnamed: 0</th>\n",
=======
       "      <th>index</th>\n",
>>>>>>> Stashed changes
       "      <th>Title</th>\n",
       "      <th>Desc</th>\n",
       "      <th>Type</th>\n",
       "      <th>BodyPart</th>\n",
       "      <th>Equipment</th>\n",
       "      <th>Level</th>\n",
       "      <th>Rating</th>\n",
       "      <th>RatingDesc</th>\n",
       "    </tr>\n",
       "  </thead>\n",
       "  <tbody>\n",
       "    <tr>\n",
       "      <th>0</th>\n",
       "      <td>0</td>\n",
       "      <td>Partner plank band row</td>\n",
       "      <td>The partner plank band row is an abdominal exe...</td>\n",
       "      <td>Strength</td>\n",
       "      <td>Abdominals</td>\n",
       "      <td>Bands</td>\n",
       "      <td>Intermediate</td>\n",
       "      <td>0.0</td>\n",
       "      <td>NaN</td>\n",
       "    </tr>\n",
       "    <tr>\n",
       "      <th>1</th>\n",
       "      <td>1</td>\n",
       "      <td>Banded crunch isometric hold</td>\n",
       "      <td>The banded crunch isometric hold is an exercis...</td>\n",
       "      <td>Strength</td>\n",
       "      <td>Abdominals</td>\n",
       "      <td>Bands</td>\n",
       "      <td>Intermediate</td>\n",
       "      <td>NaN</td>\n",
       "      <td>NaN</td>\n",
       "    </tr>\n",
       "    <tr>\n",
       "      <th>2</th>\n",
       "      <td>2</td>\n",
       "      <td>FYR Banded Plank Jack</td>\n",
       "      <td>The banded plank jack is a variation on the pl...</td>\n",
       "      <td>Strength</td>\n",
       "      <td>Abdominals</td>\n",
       "      <td>Bands</td>\n",
       "      <td>Intermediate</td>\n",
       "      <td>NaN</td>\n",
       "      <td>NaN</td>\n",
       "    </tr>\n",
       "    <tr>\n",
       "      <th>3</th>\n",
       "      <td>3</td>\n",
       "      <td>Banded crunch</td>\n",
       "      <td>The banded crunch is an exercise targeting the...</td>\n",
       "      <td>Strength</td>\n",
       "      <td>Abdominals</td>\n",
       "      <td>Bands</td>\n",
       "      <td>Intermediate</td>\n",
       "      <td>NaN</td>\n",
       "      <td>NaN</td>\n",
       "    </tr>\n",
       "    <tr>\n",
       "      <th>4</th>\n",
       "      <td>4</td>\n",
       "      <td>Crunch</td>\n",
       "      <td>The crunch is a popular core exercise targetin...</td>\n",
       "      <td>Strength</td>\n",
       "      <td>Abdominals</td>\n",
       "      <td>Bands</td>\n",
       "      <td>Intermediate</td>\n",
       "      <td>NaN</td>\n",
       "      <td>NaN</td>\n",
       "    </tr>\n",
       "    <tr>\n",
       "      <th>...</th>\n",
       "      <td>...</td>\n",
       "      <td>...</td>\n",
       "      <td>...</td>\n",
       "      <td>...</td>\n",
       "      <td>...</td>\n",
       "      <td>...</td>\n",
       "      <td>...</td>\n",
       "      <td>...</td>\n",
       "      <td>...</td>\n",
       "    </tr>\n",
       "    <tr>\n",
       "      <th>2913</th>\n",
       "      <td>2913</td>\n",
       "      <td>EZ-bar skullcrusher-</td>\n",
       "      <td>The EZ-bar skullcrusher is a popular exercise ...</td>\n",
       "      <td>Strength</td>\n",
       "      <td>Triceps</td>\n",
       "      <td>E-Z Curl Bar</td>\n",
       "      <td>Intermediate</td>\n",
       "      <td>8.1</td>\n",
       "      <td>Average</td>\n",
       "    </tr>\n",
       "    <tr>\n",
       "      <th>2914</th>\n",
       "      <td>2914</td>\n",
       "      <td>Lying Close-Grip Barbell Triceps Press To Chin</td>\n",
       "      <td>NaN</td>\n",
       "      <td>Strength</td>\n",
       "      <td>Triceps</td>\n",
       "      <td>E-Z Curl Bar</td>\n",
       "      <td>Beginner</td>\n",
       "      <td>8.1</td>\n",
       "      <td>Average</td>\n",
       "    </tr>\n",
       "    <tr>\n",
       "      <th>2915</th>\n",
       "      <td>2915</td>\n",
       "      <td>EZ-Bar Skullcrusher - Gethin Variation</td>\n",
       "      <td>The EZ-bar skullcrusher is a popular exercise ...</td>\n",
       "      <td>Strength</td>\n",
       "      <td>Triceps</td>\n",
       "      <td>E-Z Curl Bar</td>\n",
       "      <td>Intermediate</td>\n",
       "      <td>NaN</td>\n",
       "      <td>NaN</td>\n",
       "    </tr>\n",
       "    <tr>\n",
       "      <th>2916</th>\n",
       "      <td>2916</td>\n",
       "      <td>TBS Skullcrusher</td>\n",
       "      <td>The EZ-bar skullcrusher is a popular exercise ...</td>\n",
       "      <td>Strength</td>\n",
       "      <td>Triceps</td>\n",
       "      <td>E-Z Curl Bar</td>\n",
       "      <td>Intermediate</td>\n",
       "      <td>NaN</td>\n",
       "      <td>NaN</td>\n",
       "    </tr>\n",
       "    <tr>\n",
       "      <th>2917</th>\n",
       "      <td>2917</td>\n",
       "      <td>30 Arms EZ-Bar Skullcrusher</td>\n",
       "      <td>NaN</td>\n",
       "      <td>Strength</td>\n",
       "      <td>Triceps</td>\n",
       "      <td>E-Z Curl Bar</td>\n",
       "      <td>Intermediate</td>\n",
       "      <td>NaN</td>\n",
       "      <td>NaN</td>\n",
       "    </tr>\n",
       "  </tbody>\n",
       "</table>\n",
       "<p>2918 rows × 9 columns</p>\n",
       "</div>"
      ],
      "text/plain": [
<<<<<<< Updated upstream
       "      Unnamed: 0                                           Title  \\\n",
       "0              0                          Partner plank band row   \n",
       "1              1                    Banded crunch isometric hold   \n",
       "2              2                           FYR Banded Plank Jack   \n",
       "3              3                                   Banded crunch   \n",
       "4              4                                          Crunch   \n",
       "...          ...                                             ...   \n",
       "2913        2913                            EZ-bar skullcrusher-   \n",
       "2914        2914  Lying Close-Grip Barbell Triceps Press To Chin   \n",
       "2915        2915          EZ-Bar Skullcrusher - Gethin Variation   \n",
       "2916        2916                                TBS Skullcrusher   \n",
       "2917        2917                     30 Arms EZ-Bar Skullcrusher   \n",
=======
       "      index                                           Title  \\\n",
       "0         0                          Partner plank band row   \n",
       "1         1                    Banded crunch isometric hold   \n",
       "2         2                           FYR Banded Plank Jack   \n",
       "3         3                                   Banded crunch   \n",
       "4         4                                          Crunch   \n",
       "...     ...                                             ...   \n",
       "2913   2913                            EZ-bar skullcrusher-   \n",
       "2914   2914  Lying Close-Grip Barbell Triceps Press To Chin   \n",
       "2915   2915          EZ-Bar Skullcrusher - Gethin Variation   \n",
       "2916   2916                                TBS Skullcrusher   \n",
       "2917   2917                     30 Arms EZ-Bar Skullcrusher   \n",
>>>>>>> Stashed changes
       "\n",
       "                                                   Desc      Type    BodyPart  \\\n",
       "0     The partner plank band row is an abdominal exe...  Strength  Abdominals   \n",
       "1     The banded crunch isometric hold is an exercis...  Strength  Abdominals   \n",
       "2     The banded plank jack is a variation on the pl...  Strength  Abdominals   \n",
       "3     The banded crunch is an exercise targeting the...  Strength  Abdominals   \n",
       "4     The crunch is a popular core exercise targetin...  Strength  Abdominals   \n",
       "...                                                 ...       ...         ...   \n",
       "2913  The EZ-bar skullcrusher is a popular exercise ...  Strength     Triceps   \n",
       "2914                                                NaN  Strength     Triceps   \n",
       "2915  The EZ-bar skullcrusher is a popular exercise ...  Strength     Triceps   \n",
       "2916  The EZ-bar skullcrusher is a popular exercise ...  Strength     Triceps   \n",
       "2917                                                NaN  Strength     Triceps   \n",
       "\n",
       "         Equipment         Level  Rating RatingDesc  \n",
       "0            Bands  Intermediate     0.0        NaN  \n",
       "1            Bands  Intermediate     NaN        NaN  \n",
       "2            Bands  Intermediate     NaN        NaN  \n",
       "3            Bands  Intermediate     NaN        NaN  \n",
       "4            Bands  Intermediate     NaN        NaN  \n",
       "...            ...           ...     ...        ...  \n",
       "2913  E-Z Curl Bar  Intermediate     8.1    Average  \n",
       "2914  E-Z Curl Bar      Beginner     8.1    Average  \n",
       "2915  E-Z Curl Bar  Intermediate     NaN        NaN  \n",
       "2916  E-Z Curl Bar  Intermediate     NaN        NaN  \n",
       "2917  E-Z Curl Bar  Intermediate     NaN        NaN  \n",
       "\n",
       "[2918 rows x 9 columns]"
      ]
     },
<<<<<<< Updated upstream
     "execution_count": 2,
=======
     "execution_count": 1989,
>>>>>>> Stashed changes
     "metadata": {},
     "output_type": "execute_result"
    }
   ],
   "source": [
    "# Importing the dataset\n",
    "df = pd.read_csv(\"megaGymDataset.csv\")\n",
    "df = df.rename(columns={'Unnamed: 0': 'index'})\n",
    "df"
   ]
  },
  {
   "cell_type": "code",
<<<<<<< Updated upstream
   "execution_count": 3,
=======
   "execution_count": 1990,
>>>>>>> Stashed changes
   "id": "2fd33a06",
   "metadata": {},
   "outputs": [
    {
     "data": {
      "text/plain": [
<<<<<<< Updated upstream
       "Unnamed: 0       0\n",
=======
       "index            0\n",
>>>>>>> Stashed changes
       "Title            0\n",
       "Desc          1550\n",
       "Type             0\n",
       "BodyPart         0\n",
<<<<<<< Updated upstream
       "Equipment       32\n",
=======
       "Equipment        0\n",
>>>>>>> Stashed changes
       "Level            0\n",
       "Rating        1887\n",
       "RatingDesc    2056\n",
       "dtype: int64"
      ]
     },
<<<<<<< Updated upstream
     "execution_count": 3,
=======
     "execution_count": 1990,
>>>>>>> Stashed changes
     "metadata": {},
     "output_type": "execute_result"
    }
   ],
   "source": [
    "#Cheking if there is any NULL or missing values\n",
    "df.isna().sum()"
   ]
  },
  {
   "cell_type": "code",
   "execution_count": 1991,
   "id": "403c7d8a",
   "metadata": {},
   "outputs": [
    {
     "data": {
      "text/plain": [
       "Seated Cable Rows                                3\n",
       "Band-suspended kettlebell bench press            3\n",
       "Exercise Ball Cable Crunch - Gethin Variation    2\n",
       "Seated rear delt fly                             2\n",
       "Dumbbell step-up                                 2\n",
       "                                                ..\n",
       "Close-grip hands-elevated push-up                1\n",
       "Suspended push-up                                1\n",
       "Push Up to Side Plank                            1\n",
       "Isometric Chest Squeezes                         1\n",
       "30 Arms EZ-Bar Skullcrusher                      1\n",
       "Name: Title, Length: 2909, dtype: int64"
      ]
     },
     "execution_count": 1991,
     "metadata": {},
     "output_type": "execute_result"
    }
   ],
   "source": [
    "# DATA ANALYSIS\n",
    "\n",
    "# Some exercises has the same title - Should remove duplicates?\n",
    "# df = df.drop_duplicates('Title', keep='last')\n",
    "df['Title'].value_counts()"
   ]
  },
  {
   "cell_type": "code",
   "execution_count": 1992,
   "id": "29fc83db",
   "metadata": {},
   "outputs": [
    {
     "data": {
      "text/plain": [
       "<Axes: >"
      ]
     },
     "execution_count": 1992,
     "metadata": {},
     "output_type": "execute_result"
    },
    {
     "data": {
      "image/png": "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",
      "text/plain": [
       "<Figure size 640x480 with 1 Axes>"
      ]
     },
     "metadata": {},
     "output_type": "display_data"
    }
   ],
   "source": [
    "# Sorted bv level\n",
    "df['Level'].value_counts().plot.barh()"
   ]
  },
  {
   "cell_type": "code",
   "execution_count": 1993,
   "id": "4e3dc3e4",
   "metadata": {},
   "outputs": [
    {
     "data": {
      "text/plain": [
       "<Axes: >"
      ]
     },
     "execution_count": 1993,
     "metadata": {},
     "output_type": "execute_result"
    },
    {
     "data": {
      "image/png": "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",
      "text/plain": [
       "<Figure size 640x480 with 1 Axes>"
      ]
     },
     "metadata": {},
     "output_type": "display_data"
    }
   ],
   "source": [
    "# sorted by type\n",
    "df['Type'].value_counts().plot.barh()"
   ]
  },
  {
   "cell_type": "code",
   "execution_count": 1994,
   "id": "f9e0bb5a",
   "metadata": {},
   "outputs": [
    {
     "data": {
      "text/plain": [
       "<Axes: >"
      ]
     },
     "execution_count": 1994,
     "metadata": {},
     "output_type": "execute_result"
    },
    {
     "data": {
      "image/png": "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",
      "text/plain": [
       "<Figure size 640x480 with 1 Axes>"
      ]
     },
     "metadata": {},
     "output_type": "display_data"
    }
   ],
   "source": [
    "# sorted by bodypart\n",
    "df['BodyPart'].value_counts().plot.barh()"
   ]
  },
  {
   "cell_type": "code",
   "execution_count": 1995,
   "id": "bf387ad0",
   "metadata": {},
   "outputs": [
    {
     "data": {
      "text/html": [
       "<div>\n",
       "<style scoped>\n",
       "    .dataframe tbody tr th:only-of-type {\n",
       "        vertical-align: middle;\n",
       "    }\n",
       "\n",
       "    .dataframe tbody tr th {\n",
       "        vertical-align: top;\n",
       "    }\n",
       "\n",
       "    .dataframe thead th {\n",
       "        text-align: right;\n",
       "    }\n",
       "</style>\n",
       "<table border=\"1\" class=\"dataframe\">\n",
       "  <thead>\n",
       "    <tr style=\"text-align: right;\">\n",
       "      <th></th>\n",
       "      <th>index</th>\n",
       "      <th>Title</th>\n",
       "      <th>Desc</th>\n",
       "      <th>Type</th>\n",
       "      <th>BodyPart</th>\n",
       "      <th>Equipment</th>\n",
       "      <th>Level</th>\n",
       "      <th>Rating</th>\n",
       "      <th>RatingDesc</th>\n",
       "    </tr>\n",
       "  </thead>\n",
       "  <tbody>\n",
       "    <tr>\n",
       "      <th>2065</th>\n",
       "      <td>2065</td>\n",
       "      <td>Single-Leg Press</td>\n",
       "      <td>The single-leg leg press is an exercise target...</td>\n",
       "      <td>Strength</td>\n",
       "      <td>Quadriceps</td>\n",
       "      <td>Machine</td>\n",
       "      <td>Intermediate</td>\n",
       "      <td>9.6</td>\n",
       "      <td>Average</td>\n",
       "    </tr>\n",
       "    <tr>\n",
       "      <th>1195</th>\n",
       "      <td>1195</td>\n",
       "      <td>Rickshaw Carry</td>\n",
       "      <td>NaN</td>\n",
       "      <td>Strongman</td>\n",
       "      <td>Forearms</td>\n",
       "      <td>Other</td>\n",
       "      <td>Beginner</td>\n",
       "      <td>9.6</td>\n",
       "      <td>Average</td>\n",
       "    </tr>\n",
       "    <tr>\n",
       "      <th>1179</th>\n",
       "      <td>1179</td>\n",
       "      <td>Palms-down wrist curl over bench</td>\n",
       "      <td>The palms-down wrist curl over bench is an exe...</td>\n",
       "      <td>Strength</td>\n",
       "      <td>Forearms</td>\n",
       "      <td>Barbell</td>\n",
       "      <td>Intermediate</td>\n",
       "      <td>9.5</td>\n",
       "      <td>Average</td>\n",
       "    </tr>\n",
       "    <tr>\n",
       "      <th>2525</th>\n",
       "      <td>2525</td>\n",
       "      <td>Dumbbell front raise to lateral raise</td>\n",
       "      <td>The dumbbell front raise to lateral raise is a...</td>\n",
       "      <td>Strength</td>\n",
       "      <td>Shoulders</td>\n",
       "      <td>Dumbbell</td>\n",
       "      <td>Intermediate</td>\n",
       "      <td>9.5</td>\n",
       "      <td>Average</td>\n",
       "    </tr>\n",
       "    <tr>\n",
       "      <th>1577</th>\n",
       "      <td>1577</td>\n",
       "      <td>Atlas Stones</td>\n",
       "      <td>NaN</td>\n",
       "      <td>Strongman</td>\n",
       "      <td>Lower Back</td>\n",
       "      <td>Other</td>\n",
       "      <td>Intermediate</td>\n",
       "      <td>9.5</td>\n",
       "      <td>Average</td>\n",
       "    </tr>\n",
       "    <tr>\n",
       "      <th>731</th>\n",
       "      <td>731</td>\n",
       "      <td>Incline Hammer Curls</td>\n",
       "      <td>NaN</td>\n",
       "      <td>Strength</td>\n",
       "      <td>Biceps</td>\n",
       "      <td>Dumbbell</td>\n",
       "      <td>Beginner</td>\n",
       "      <td>9.5</td>\n",
       "      <td>Average</td>\n",
       "    </tr>\n",
       "    <tr>\n",
       "      <th>88</th>\n",
       "      <td>88</td>\n",
       "      <td>Landmine twist</td>\n",
       "      <td>The landmine twist is a rotational abdominal m...</td>\n",
       "      <td>Strength</td>\n",
       "      <td>Abdominals</td>\n",
       "      <td>Other</td>\n",
       "      <td>Intermediate</td>\n",
       "      <td>9.5</td>\n",
       "      <td>Average</td>\n",
       "    </tr>\n",
       "    <tr>\n",
       "      <th>1798</th>\n",
       "      <td>1798</td>\n",
       "      <td>Clean from Blocks</td>\n",
       "      <td>NaN</td>\n",
       "      <td>Olympic Weightlifting</td>\n",
       "      <td>Quadriceps</td>\n",
       "      <td>Barbell</td>\n",
       "      <td>Beginner</td>\n",
       "      <td>9.5</td>\n",
       "      <td>Average</td>\n",
       "    </tr>\n",
       "    <tr>\n",
       "      <th>1451</th>\n",
       "      <td>1451</td>\n",
       "      <td>Weighted pull-up</td>\n",
       "      <td>The weighted pull-up is a more advanced variat...</td>\n",
       "      <td>Strength</td>\n",
       "      <td>Lats</td>\n",
       "      <td>Other</td>\n",
       "      <td>Intermediate</td>\n",
       "      <td>9.5</td>\n",
       "      <td>Average</td>\n",
       "    </tr>\n",
       "    <tr>\n",
       "      <th>1695</th>\n",
       "      <td>1695</td>\n",
       "      <td>T-Bar Row with Handle</td>\n",
       "      <td>NaN</td>\n",
       "      <td>Strength</td>\n",
       "      <td>Middle Back</td>\n",
       "      <td>Other</td>\n",
       "      <td>Intermediate</td>\n",
       "      <td>9.5</td>\n",
       "      <td>Average</td>\n",
       "    </tr>\n",
       "  </tbody>\n",
       "</table>\n",
       "</div>"
      ],
      "text/plain": [
       "      index                                  Title  \\\n",
       "2065   2065                       Single-Leg Press   \n",
       "1195   1195                         Rickshaw Carry   \n",
       "1179   1179       Palms-down wrist curl over bench   \n",
       "2525   2525  Dumbbell front raise to lateral raise   \n",
       "1577   1577                           Atlas Stones   \n",
       "731     731                   Incline Hammer Curls   \n",
       "88       88                         Landmine twist   \n",
       "1798   1798                      Clean from Blocks   \n",
       "1451   1451                       Weighted pull-up   \n",
       "1695   1695                  T-Bar Row with Handle   \n",
       "\n",
       "                                                   Desc  \\\n",
       "2065  The single-leg leg press is an exercise target...   \n",
       "1195                                                NaN   \n",
       "1179  The palms-down wrist curl over bench is an exe...   \n",
       "2525  The dumbbell front raise to lateral raise is a...   \n",
       "1577                                                NaN   \n",
       "731                                                 NaN   \n",
       "88    The landmine twist is a rotational abdominal m...   \n",
       "1798                                                NaN   \n",
       "1451  The weighted pull-up is a more advanced variat...   \n",
       "1695                                                NaN   \n",
       "\n",
       "                       Type     BodyPart Equipment         Level  Rating  \\\n",
       "2065               Strength   Quadriceps   Machine  Intermediate     9.6   \n",
       "1195              Strongman     Forearms     Other      Beginner     9.6   \n",
       "1179               Strength     Forearms   Barbell  Intermediate     9.5   \n",
       "2525               Strength    Shoulders  Dumbbell  Intermediate     9.5   \n",
       "1577              Strongman   Lower Back     Other  Intermediate     9.5   \n",
       "731                Strength       Biceps  Dumbbell      Beginner     9.5   \n",
       "88                 Strength   Abdominals     Other  Intermediate     9.5   \n",
       "1798  Olympic Weightlifting   Quadriceps   Barbell      Beginner     9.5   \n",
       "1451               Strength         Lats     Other  Intermediate     9.5   \n",
       "1695               Strength  Middle Back     Other  Intermediate     9.5   \n",
       "\n",
       "     RatingDesc  \n",
       "2065    Average  \n",
       "1195    Average  \n",
       "1179    Average  \n",
       "2525    Average  \n",
       "1577    Average  \n",
       "731     Average  \n",
       "88      Average  \n",
       "1798    Average  \n",
       "1451    Average  \n",
       "1695    Average  "
      ]
     },
     "execution_count": 1995,
     "metadata": {},
     "output_type": "execute_result"
    }
   ],
   "source": [
    "# top rated exercises\n",
    "ratingSorted= df.sort_values(by='Rating',ascending=False)\n",
    "ratingSorted =ratingSorted.head(10)\n",
    "ratingSorted"
   ]
  },
  {
   "cell_type": "code",
   "execution_count": 1996,
   "id": "d443051b",
   "metadata": {},
   "outputs": [
    {
     "name": "stdout",
     "output_type": "stream",
     "text": [
      "     index        Title                                               Desc  \\\n",
      "942    942  Bench press  The bench press is a popular barbell exercise ...   \n",
      "\n",
      "         Type BodyPart Equipment         Level  Rating RatingDesc  \n",
      "942  Strength    Chest   Barbell  Intermediate     NaN        NaN  \n",
      "     index        Title                                               Desc  \\\n",
      "942    942  Bench press  The bench press is a popular barbell exercise ...   \n",
      "\n",
      "         Type BodyPart Equipment         Level  Rating RatingDesc  \n",
      "942  Strength    Chest   Barbell  Intermediate    10.0        NaN  \n"
     ]
    }
   ],
   "source": [
    "# Prints the row of the given Title to find the index\n",
    "print(df[df[\"Title\"] == \"Bench press\"])\n",
    "df.loc[df['Title'] == \"Bench press\", 'Rating'] = 10\n",
    "print(df[df[\"Title\"] == \"Bench press\"])"
   ]
  },
  {
   "cell_type": "code",
   "execution_count": 1997,
   "id": "7ce6d25a",
   "metadata": {},
   "outputs": [
    {
     "data": {
      "image/png": "iVBORw0KGgoAAAANSUhEUgAAA1sAAAIhCAYAAAC48qAWAAAAOXRFWHRTb2Z0d2FyZQBNYXRwbG90bGliIHZlcnNpb24zLjcuMSwgaHR0cHM6Ly9tYXRwbG90bGliLm9yZy/bCgiHAAAACXBIWXMAAA9hAAAPYQGoP6dpAAA/V0lEQVR4nO3deXwU9eH/8feakJDEJOYg2aQhmCpaJSBKFAWEIBAFgUJoQdFyCFYrUmJIOVsJrZKKJaAgeNGAIIetoFirEkRQBCuiiKBFyhGuxCDEbA7Iub8/+GW/rgEly05mN3k9H499lJn57Mx7l9gH78zMZyx2u90uAAAAAIBbXWJ2AAAAAABoiihbAAAAAGAAyhYAAAAAGICyBQAAAAAGoGwBAAAAgAEoWwAAAABgAMoWAAAAABiAsgUAAAAABqBsAQAAAIABKFsA4MGWLFkii8XieLVs2VJWq1U9e/ZUVlaWCgsL670nMzNTFoulQccpLy9XZmamNm3a1KD3netYl19+ufr379+g/fyUFStWaN68eefcZrFYlJmZ6dbjudu7776rpKQkBQUFyWKx6LXXXjvnuEOHDjn9fV9yySUKCwtTr169tH79epeP7+3fHwB4K8oWAHiBnJwcbdu2Tbm5uXrmmWfUsWNHPfHEE7rmmmu0YcMGp7Fjx47Vtm3bGrT/8vJyzZw5s8Fly5VjueLHysK2bds0duxYwzO4ym63a+jQoWrRooXWrVunbdu2qUePHj/6nvHjx2vbtm364IMP9Le//U379u1Tv3799P7777uUwZu/PwDwZr5mBwAA/LTExEQlJSU5locMGaJHHnlE3bp1U2pqqvbt26fo6GhJUlxcnOLi4gzNU15ersDAwEY51k+5+eabTT3+Tzl+/LhOnTqlwYMHq1evXhf0nvj4eMfn6tq1q9q2basePXpo8eLF6t69u1vzefr3BwDejDNbAOCl4uPjNWfOHJWUlOi5555zrD/XpX0bN25UcnKyIiIiFBAQoPj4eA0ZMkTl5eU6dOiQWrVqJUmaOXOm4xK2UaNGOe3v008/1a9+9SuFhYXpiiuuOO+x6qxdu1YdOnRQy5Yt9fOf/1xPP/200/a6SyQPHTrktH7Tpk2yWCyOs2zJycl68803lZeX53SJXZ1zXQa3e/du/fKXv1RYWJhatmypjh07aunSpec8zsqVKzV9+nTFxsYqJCREvXv31t69e8//xX/Pli1b1KtXLwUHByswMFBdunTRm2++6diemZnpKKOTJ0+WxWLR5ZdffkH7/r66ov3NN984rX/mmWfUvXt3RUVFKSgoSO3bt9fs2bNVVVXlGNPQ76/u7+W9997T7373O0VGRioiIkKpqak6fvy40/ErKio0ceJEWa1WBQYGqnv37tqxY4cuv/xyx8+PdLacZ2RkKCEhQS1btlR4eLiSkpK0cuXKBn8XAOBNOLMFAF6sX79+8vHx+dHLyw4dOqQ777xTt956q/7+97/rsssu07Fjx/T222+rsrJSMTExevvtt3XHHXdozJgxjkvK6gpYndTUVN1111168MEHVVZW9qO5du7cqbS0NGVmZspqterll1/WhAkTVFlZqYyMjAZ9xoULF+q3v/2t9u/fr7Vr1/7k+L1796pLly6KiorS008/rYiICC1fvlyjRo3SN998o0mTJjmNnzZtmrp27aoXX3xRNptNkydP1oABA/TVV1/Jx8fnvMfZvHmz+vTpow4dOmjx4sXy9/fXwoULNWDAAK1cuVLDhg3T2LFjdd111yk1NVXjx4/X8OHD5e/v36DPL0kHDx6UJF111VVO6/fv36/hw4crISFBfn5++vzzz/X444/rv//9r/7+979Lavj3V2fs2LG68847tWLFCh05ckR/+MMfdO+992rjxo2OMaNHj9bq1as1adIk3Xbbbfryyy81ePBg2Ww2p32lp6dr2bJleuyxx3T99derrKxMu3fv1smTJxv8XQCAN6FsAYAXCwoKUmRkZL0zDt+3Y8cOnTlzRk8++aSuu+46x/rhw4c7/typUydJZy9BPN9lZSNHjtTMmTMvKNfx48f12WefOY7Xt29fFRYW6i9/+YseeughBQYGXtB+JOnaa6/VZZddJn9//wu65C0zM1OVlZV677331Lp1a0lnS+l3332nmTNn6oEHHlBoaKjT/pcvX+5Y9vHx0dChQ7V9+/YfPd6UKVMUFhamTZs26dJLL5Uk9e/fXx07dlRGRoaGDh2quLg4VVdXS3K+NPCn1NbWqrq6WjU1Nfrvf/+r3/3ud4qJiVF6errTuOzsbKf33HrrrYqIiNDo0aM1Z84chYWFNfj7q3PHHXc4nY08deqUJk2apIKCAlmtVn355ZdauXKlJk+erKysLElSnz59FB0drbvvvttpXx9++KFSUlL0yCOPONbdeeedF5wFALwVlxECgJez2+0/ur1jx47y8/PTb3/7Wy1dulQHDhxw6ThDhgy54LHt2rVzKnbS2XJns9n06aefunT8C7Vx40b16tXLUbTqjBo1SuXl5fUm9Bg4cKDTcocOHSRJeXl55z1GWVmZ/vOf/+hXv/qVo2hJZ4vab37zGx09evSCL0U8l8mTJ6tFixaOSyB3796tN954o94liJ999pkGDhyoiIgI+fj4qEWLFhoxYoRqamr09ddfu3x86ae/l82bN0uShg4d6jTuV7/6lXx9nX+Xe9NNN+mtt97SlClTtGnTJp0+ffqisgGAt6BsAYAXKysr08mTJxUbG3veMVdccYU2bNigqKgojRs3TldccYWuuOIKPfXUUw06VkxMzAWPtVqt511n9KVjJ0+ePGfWuu/oh8ePiIhwWq67zO/HCkFRUZHsdnuDjtMQEyZM0Pbt27Vlyxb97W9/U1VVlX75y1867fPw4cO69dZbdezYMT311FP64IMPtH37dj3zzDM/mf9C/NT3UpelbmKWOr6+vvXe+/TTT2vy5Ml67bXX1LNnT4WHh2vQoEHat2/fRWUEAE9H2QIAL/bmm2+qpqZGycnJPzru1ltv1RtvvKHi4mJ99NFHuuWWW5SWlqZVq1Zd8LEa8uyugoKC866r+4d4y5YtJZ2dZOH7vv322ws+zrlEREQoPz+/3vq6Sy0jIyMvav+SFBYWpksuucSw48TFxSkpKUldu3bVxIkT9eKLL+rYsWOaMWOGY8xrr72msrIyrVmzRvfee6+6deumpKQk+fn5uXzchqj7e/zhpB3V1dX1imZQUJBmzpyp//73vyooKNCiRYv00UcfacCAAY2SFQDMQtkCAC91+PBhZWRkKDQ0VA888MAFvcfHx0edO3d2nP2ou6TvQs7mNMSePXv0+eefO61bsWKFgoODdcMNN0iS45K4Xbt2OY1bt25dvf35+/tfcLZevXpp48aN9e5je+mllxQYGOiWqc6DgoLUuXNnrVmzxilXbW2tli9frri4uHqTWVyMe+65R8nJyXrhhRccl/HVld/vT7hht9v1wgsv1Ht/Q76/C1U3Bf3q1aud1v/zn/903Kd2LtHR0Ro1apTuvvtu7d27V+Xl5W7NBQCehAkyAMAL7N69W9XV1aqurlZhYaE++OAD5eTkyMfHR2vXrq03c+D3Pfvss9q4caPuvPNOxcfH68yZM46Z6nr37i1JCg4OVps2bfT666+rV69eCg8PV2RkpEvTlEtnL6UbOHCgMjMzFRMTo+XLlys3N1dPPPGEY3KMG2+8UVdffbUyMjJUXV2tsLAwrV27Vlu2bKm3v/bt22vNmjVatGiROnXqpEsuucTpuWPfN2PGDP3rX/9Sz5499eijjyo8PFwvv/yy3nzzTc2ePdtpcoyLkZWVpT59+qhnz57KyMiQn5+fFi5cqN27d2vlypUNOhN4IZ544gl17txZf/nLX/Tiiy+qT58+8vPz0913361JkybpzJkzWrRokYqKiuq9tyHf34Vq166d7r77bs2ZM0c+Pj667bbbtGfPHs2ZM0ehoaG65JL/+31u586d1b9/f3Xo0EFhYWH66quvtGzZMt1yyy0NmiwFALwNZQsAvMDo0aMlSX5+frrssst0zTXXaPLkyRo7duyPFi3p7AQZ69ev14wZM1RQUKBLL71UiYmJWrdunVJSUhzjFi9erD/84Q8aOHCgKioqNHLkSC1ZssSlvB07dtTo0aM1Y8YM7du3T7GxscrOznaajc7Hx0dvvPGGHn74YT344IPy9/fXXXfdpQULFtSbqW7ChAnas2ePpk2bpuLiYtnt9vNODHL11Vdr69atmjZtmsaNG6fTp0/rmmuuUU5OjtOzny5Wjx49tHHjRs2YMUOjRo1SbW2trrvuOq1bt079+/d323Hq3HTTTfr1r3+tpUuXaurUqfrFL36hV199VX/84x+VmpqqiIgIDR8+XOnp6erbt6/Texvy/TVETk6OYmJitHjxYs2dO1cdO3bUK6+8ojvuuEOXXXaZY9xtt92mdevWae7cuSovL9fPfvYzjRgxQtOnT7/oDADgySx2d/y/LQAAgKStW7eqa9euevnll50eLwAAzRFlCwAAuCQ3N1fbtm1Tp06dFBAQoM8//1x//etfFRoaql27djkmQQGA5orLCAEAgEtCQkK0fv16zZs3TyUlJYqMjFTfvn2VlZVF0QIAcWYLAAAAAAzB1O8AAAAAYADKFgAAAAAYgLIFAAAAAAZgggxJtbW1On78uIKDg93+EEoAAAAA3sNut6ukpESxsbFOD2h3BWVL0vHjx9W6dWuzYwAAAADwEEeOHFFcXNxF7YOyJSk4OFjS2S80JCTE5DQAAAAAzGKz2dS6dWtHR7gYlC3JcelgSEgIZQsAAACAW24vYoIMAAAAADAAZQsAAAAADEDZAgAAAAADULYAAAAAwACmlq2srCzdeOONCg4OVlRUlAYNGqS9e/c6jRk1apQsFovT6+abb3YaU1FRofHjxysyMlJBQUEaOHCgjh492pgfBQAAAACcmFq2Nm/erHHjxumjjz5Sbm6uqqurlZKSorKyMqdxd9xxh/Lz8x2vf//7307b09LStHbtWq1atUpbtmxRaWmp+vfvr5qamsb8OAAAAADgYOrU72+//bbTck5OjqKiorRjxw51797dsd7f319Wq/Wc+yguLtbixYu1bNky9e7dW5K0fPlytW7dWhs2bNDtt99u3AcAAAAAgPPwqHu2iouLJUnh4eFO6zdt2qSoqChdddVVuv/++1VYWOjYtmPHDlVVVSklJcWxLjY2VomJidq6des5j1NRUSGbzeb0AgAAAAB38piyZbfblZ6erm7duikxMdGxvm/fvnr55Ze1ceNGzZkzR9u3b9dtt92miooKSVJBQYH8/PwUFhbmtL/o6GgVFBSc81hZWVkKDQ11vFq3bm3cBwMAAADQLJl6GeH3Pfzww9q1a5e2bNnitH7YsGGOPycmJiopKUlt2rTRm2++qdTU1PPuz263n/epz1OnTlV6erpj2WazUbgAAAAAuJVHnNkaP3681q1bp/fee09xcXE/OjYmJkZt2rTRvn37JElWq1WVlZUqKipyGldYWKjo6Ohz7sPf318hISFOLwAAAABwJ1PLlt1u18MPP6w1a9Zo48aNSkhI+Mn3nDx5UkeOHFFMTIwkqVOnTmrRooVyc3MdY/Lz87V792516dLFsOwAAAAA8GNMvYxw3LhxWrFihV5//XUFBwc77rEKDQ1VQECASktLlZmZqSFDhigmJkaHDh3StGnTFBkZqcGDBzvGjhkzRhMnTlRERITCw8OVkZGh9u3bO2YnBAAAAIDGZmrZWrRokSQpOTnZaX1OTo5GjRolHx8fffHFF3rppZf03XffKSYmRj179tTq1asVHBzsGD937lz5+vpq6NChOn36tHr16qUlS5bIx8enMT8OAAAAADhY7Ha73ewQZrPZbAoNDVVxcTH3bwEAAADNmDu7gUdMkAEAAAAATQ1lCwAAAAAMQNkCAAAAAAN4zEONPcGBAwecJt7wFCEhIWrVqpXZMQAAAAA0AGXre+4b94h8fD3vKwkPDtTynBcpXAAAAIAX8bxmYaKImwbqspjLzY7hpOzUNzqx7VXZbDbKFgAAAOBFKFvfExQWpZCoOLNj1HPC7AAAAAAAGowJMgAAAADAAJQtAAAAADAAZQsAAAAADEDZAgAAAAADULYAAAAAwACULQAAAAAwAGULAAAAAAxA2QIAAAAAA1C2AAAAAMAAlC0AAAAAMABlCwAAAAAMQNkCAAAAAANQtgAAAADAAJQtAAAAADAAZQsAAAAADEDZAgAAAAADULYAAAAAwACULQAAAAAwAGULAAAAAAxA2QIAAAAAA1C2AAAAAMAAlC0AAAAAMABlCwAAAAAMQNkCAAAAAANQtgAAAADAAJQtAAAAADAAZQsAAAAADEDZAgAAAAADULYAAAAAwACULQAAAAAwAGULAAAAAAxA2QIAAAAAA1C2AAAAAMAAlC0AAAAAMABlCwAAAAAMQNkCAAAAAANQtgAAAADAAJQtAAAAADAAZQsAAAAADEDZAgAAAAADULYAAAAAwACULQAAAAAwAGULAAAAAAxA2QIAAAAAA1C2AAAAAMAAlC0AAAAAMABlCwAAAAAMQNkCAAAAAANQtgAAAADAAJQtAAAAADAAZQsAAAAADEDZAgAAAAADULYAAAAAwACULQAAAAAwAGULAAAAAAxA2QIAAAAAA1C2AAAAAMAAlC0AAAAAMABlCwAAAAAMQNkCAAAAAANQtgAAAADAAL5mBwAAAAC83YkTJ2Sz2cyOUU9ISIhatWpldoxmi7IFAAAAXIQTJ07o3tFjdaqk3Owo9YQHB2p5zosULpNQtgAAAICLYLPZdKqkXK1uGaKg8Giz4ziUnfpGJ7a9KpvNRtkyCWULAAAAcIOg8GiFRMWZHcPJCbMDNHNMkAEAAAAABqBsAQAAAIABKFsAAAAAYADKFgAAAAAYgLIFAAAAAAagbAEAAACAAShbAAAAAGAAU8tWVlaWbrzxRgUHBysqKkqDBg3S3r17ncbY7XZlZmYqNjZWAQEBSk5O1p49e5zGVFRUaPz48YqMjFRQUJAGDhyoo0ePNuZHAQAAAAAnppatzZs3a9y4cfroo4+Um5ur6upqpaSkqKyszDFm9uzZys7O1oIFC7R9+3ZZrVb16dNHJSUljjFpaWlau3atVq1apS1btqi0tFT9+/dXTU2NGR8LAAAAAORr5sHffvttp+WcnBxFRUVpx44d6t69u+x2u+bNm6fp06crNTVVkrR06VJFR0drxYoVeuCBB1RcXKzFixdr2bJl6t27tyRp+fLlat26tTZs2KDbb7+90T8XAAAAAHjUPVvFxcWSpPDwcEnSwYMHVVBQoJSUFMcYf39/9ejRQ1u3bpUk7dixQ1VVVU5jYmNjlZiY6BjzQxUVFbLZbE4vAAAAAHAnjylbdrtd6enp6tatmxITEyVJBQUFkqTo6GinsdHR0Y5tBQUF8vPzU1hY2HnH/FBWVpZCQ0Mdr9atW7v74wAAAABo5jymbD388MPatWuXVq5cWW+bxWJxWrbb7fXW/dCPjZk6daqKi4sdryNHjrgeHAAAAADOwSPK1vjx47Vu3Tq99957iouLc6y3Wq2SVO8MVWFhoeNsl9VqVWVlpYqKis475of8/f0VEhLi9AIAAAAAdzK1bNntdj388MNas2aNNm7cqISEBKftCQkJslqtys3NdayrrKzU5s2b1aVLF0lSp06d1KJFC6cx+fn52r17t2MMAAAAADQ2U2cjHDdunFasWKHXX39dwcHBjjNYoaGhCggIkMViUVpammbNmqW2bduqbdu2mjVrlgIDAzV8+HDH2DFjxmjixImKiIhQeHi4MjIy1L59e8fshAAAAADQ2EwtW4sWLZIkJScnO63PycnRqFGjJEmTJk3S6dOn9dBDD6moqEidO3fW+vXrFRwc7Bg/d+5c+fr6aujQoTp9+rR69eqlJUuWyMfHp7E+CgAAAAA4MbVs2e32nxxjsViUmZmpzMzM845p2bKl5s+fr/nz57sxHQAAAAC4ziMmyAAAAACApoayBQAAAAAGoGwBAAAAgAEoWwAAAABgAMoWAAAAABiAsgUAAAAABqBsAQAAAIABKFsAAAAAYADKFgAAAAAYgLIFAAAAAAagbAEAAACAAShbAAAAAGAAyhYAAAAAGICyBQAAAAAGoGwBAAAAgAEoWwAAAABgAMoWAAAAABiAsgUAAAAABqBsAQAAAIABKFsAAAAAYADKFgAAAAAYgLIFAAAAAAagbAEAAACAAShbAAAAAGAAyhYAAAAAGICyBQAAAAAGoGwBAAAAgAEoWwAAAABgAMoWAAAAABiAsgUAAAAABqBsAQAAAIABKFsAAAAAYADKFgAAAAAYgLIFAAAAAAagbAEAAACAAShbAAAAAGAAyhYAAAAAGICyBQAAAAAGoGwBAAAAgAEoWwAAAABgAMoWAAAAABiAsgUAAAAABqBsAQAAAIABKFsAAAAAYADKFgAAAAAYgLIFAAAAAAagbAEAAACAAShbAAAAAGAAyhYAAAAAGICyBQAAAAAG8DU7AAAAAHAhTpw4IZvNZnaMevLy8lRdVW12DHggyhYAAAA83okTJ3Tv6LE6VVJudpR6zpwu19Fj+YqvqjI7CjwMZQsAAAAez2az6VRJuVrdMkRB4dFmx3FSuH+38o78XTXVlC04o2wBAADAawSFRyskKs7sGE5KTxaYHQEeigkyAAAAAMAAlC0AAAAAMABlCwAAAAAMQNkCAAAAAANQtgAAAADAAJQtAAAAADAAZQsAAAAADEDZAgAAAAADULYAAAAAwACULQAAAAAwAGULAAAAAAxA2QIAAAAAA1C2AAAAAMAAlC0AAAAAMABlCwAAAAAMQNkCAAAAAANQtgAAAADAAJQtAAAAADAAZQsAAAAADEDZAgAAAAADULYAAAAAwACULQAAAAAwAGULAAAAAAxA2QIAAAAAA1C2AAAAAMAAppat999/XwMGDFBsbKwsFotee+01p+2jRo2SxWJxet18881OYyoqKjR+/HhFRkYqKChIAwcO1NGjRxvxUwAAAABAfaaWrbKyMl133XVasGDBecfccccdys/Pd7z+/e9/O21PS0vT2rVrtWrVKm3ZskWlpaXq37+/ampqjI4PAAAAAOfla+bB+/btq759+/7oGH9/f1mt1nNuKy4u1uLFi7Vs2TL17t1bkrR8+XK1bt1aGzZs0O233+72zAAAAABwITz+nq1NmzYpKipKV111le6//34VFhY6tu3YsUNVVVVKSUlxrIuNjVViYqK2bt163n1WVFTIZrM5vQAAAADAnTy6bPXt21cvv/yyNm7cqDlz5mj79u267bbbVFFRIUkqKCiQn5+fwsLCnN4XHR2tgoKC8+43KytLoaGhjlfr1q0N/RwAAAAAmh9TLyP8KcOGDXP8OTExUUlJSWrTpo3efPNNpaamnvd9drtdFovlvNunTp2q9PR0x7LNZqNwAQAAAHArjz6z9UMxMTFq06aN9u3bJ0myWq2qrKxUUVGR07jCwkJFR0efdz/+/v4KCQlxegEAAACAO3lV2Tp58qSOHDmimJgYSVKnTp3UokUL5ebmOsbk5+dr9+7d6tKli1kxAQAAAMDcywhLS0v1v//9z7F88OBB7dy5U+Hh4QoPD1dmZqaGDBmimJgYHTp0SNOmTVNkZKQGDx4sSQoNDdWYMWM0ceJERUREKDw8XBkZGWrfvr1jdkIAAAAAMIOpZeuTTz5Rz549Hct191GNHDlSixYt0hdffKGXXnpJ3333nWJiYtSzZ0+tXr1awcHBjvfMnTtXvr6+Gjp0qE6fPq1evXppyZIl8vHxafTPAwAAAAB1TC1bycnJstvt593+zjvv/OQ+WrZsqfnz52v+/PnujAYAAAAAF8Wle7YOHjzo7hwAAAAA0KS4VLauvPJK9ezZU8uXL9eZM2fcnQkAAAAAvJ5LZevzzz/X9ddfr4kTJ8pqteqBBx7Qxx9/7O5sAAAAAOC1XCpbiYmJys7O1rFjx5STk6OCggJ169ZN7dq1U3Z2tk6cOOHunAAAAADgVS7qOVu+vr4aPHiwXnnlFT3xxBPav3+/MjIyFBcXpxEjRig/P99dOQEAAADAq1xU2frkk0/00EMPKSYmRtnZ2crIyND+/fu1ceNGHTt2TL/85S/dlRMAAAAAvIpLU79nZ2crJydHe/fuVb9+/fTSSy+pX79+uuSSs90tISFBzz33nH7xi1+4NSwAAAAAeAuXytaiRYt03333afTo0bJareccEx8fr8WLF19UOAAAAADwVi6VrX379v3kGD8/P40cOdKV3QMAAACA13Ppnq2cnBz94x//qLf+H//4h5YuXXrRoQAAAADA27lUtv76178qMjKy3vqoqCjNmjXrokMBAAAAgLdzqWzl5eUpISGh3vo2bdro8OHDFx0KAAAAALydS2UrKipKu3btqrf+888/V0RExEWHAgAAAABv51LZuuuuu/T73/9e7733nmpqalRTU6ONGzdqwoQJuuuuu9ydEQAAAAC8jkuzET722GPKy8tTr1695Ot7dhe1tbUaMWIE92wBAAAAgFwsW35+flq9erX+8pe/6PPPP1dAQIDat2+vNm3auDsfAAAAAHgll8pWnauuukpXXXWVu7IAAAAAQJPhUtmqqanRkiVL9O6776qwsFC1tbVO2zdu3OiWcAAAAADgrVwqWxMmTNCSJUt05513KjExURaLxd25AAAAAMCruVS2Vq1apVdeeUX9+vVzdx4AAAAAaBJcmvrdz89PV155pbuzAAAAAECT4VLZmjhxop566inZ7XZ35wEAAACAJsGlywi3bNmi9957T2+99ZbatWunFi1aOG1fs2aNW8IBAAAAgLdyqWxddtllGjx4sLuzAAAAAECT4VLZysnJcXcOAAAAAGhSXLpnS5Kqq6u1YcMGPffccyopKZEkHT9+XKWlpW4LBwAAAADeyqUzW3l5ebrjjjt0+PBhVVRUqE+fPgoODtbs2bN15swZPfvss+7OCQAAAABexaUzWxMmTFBSUpKKiooUEBDgWD948GC9++67bgsHAAAAAN7K5dkIP/zwQ/n5+Tmtb9OmjY4dO+aWYAAAAADgzVw6s1VbW6uampp6648eParg4OCLDgUAAAAA3s6lstWnTx/NmzfPsWyxWFRaWqoZM2aoX79+7soGAAAAAF7LpcsI586dq549e+raa6/VmTNnNHz4cO3bt0+RkZFauXKluzMCAAAAgNdxqWzFxsZq586dWrlypT799FPV1tZqzJgxuueee5wmzAAAAACA5sqlsiVJAQEBuu+++3Tfffe5Mw8AAAAANAkula2XXnrpR7ePGDHCpTAAAAAA0FS4VLYmTJjgtFxVVaXy8nL5+fkpMDCQsgUAAACg2XNpNsKioiKnV2lpqfbu3atu3boxQQYAAAAAyMWydS5t27bVX//613pnvQAAAACgOXJb2ZIkHx8fHT9+3J27BAAAAACv5NI9W+vWrXNattvtys/P14IFC9S1a1e3BAMAAAAAb+ZS2Ro0aJDTssViUatWrXTbbbdpzpw57sgFAAAAAF7NpbJVW1vr7hwAAAAA3KyqslJ5eXlmxzinkJAQtWrVyuwYhnL5ocYAAAAAPFdFabEOHTygtGmZ8vf3NztOPeHBgVqe82KTLlwula309PQLHpudne3KIQAAAABchKqK06q1+Cry5lRFxLYxO46TslPf6MS2V2Wz2ShbP/TZZ5/p008/VXV1ta6++mpJ0tdffy0fHx/dcMMNjnEWi8U9KQEAAAC4JDCslUKi4syOUc8JswM0ApfK1oABAxQcHKylS5cqLCxM0tkHHY8ePVq33nqrJk6c6NaQAAAAAOBtXHrO1pw5c5SVleUoWpIUFhamxx57jNkIAQAAAEAuli2bzaZvvvmm3vrCwkKVlJRcdCgAAAAA8HYula3Bgwdr9OjR+uc//6mjR4/q6NGj+uc//6kxY8YoNTXV3RkBAAAAwOu4dM/Ws88+q4yMDN17772qqqo6uyNfX40ZM0ZPPvmkWwMCAAAAgDdyqWwFBgZq4cKFevLJJ7V//37Z7XZdeeWVCgoKcnc+AAAAAPBKLl1GWCc/P1/5+fm66qqrFBQUJLvd7q5cAAAAAODVXCpbJ0+eVK9evXTVVVepX79+ys/PlySNHTuWad8BAAAAQC6WrUceeUQtWrTQ4cOHFRgY6Fg/bNgwvf32224LBwAAAADeyqV7ttavX6933nlHcXHOT6Ju27at8vLy3BIMAAAAALyZS2e2ysrKnM5o1fn222/l7+9/0aEAAAAAwNu5VLa6d++ul156ybFssVhUW1urJ598Uj179nRbOAAAAADwVi5dRvjkk08qOTlZn3zyiSorKzVp0iTt2bNHp06d0ocffujujAAAAADgdVw6s3Xttddq165duummm9SnTx+VlZUpNTVVn332ma644gp3ZwQAAAAAr9PgM1tVVVVKSUnRc889p5kzZxqRCQAAAAC8XoPPbLVo0UK7d++WxWIxIg8AAAAANAkuXUY4YsQILV682N1ZAAAAAKDJcGmCjMrKSr344ovKzc1VUlKSgoKCnLZnZ2e7JRwAAAAAeKsGla0DBw7o8ssv1+7du3XDDTdIkr7++munMVxeCAAAAAANLFtt27ZVfn6+3nvvPUnSsGHD9PTTTys6OtqQcAAAAADgrRp0z5bdbndafuutt1RWVubWQAAAAADQFLg0QUadH5YvAAAAAMBZDSpbFoul3j1Z3KMFAAAAAPU16J4tu92uUaNGyd/fX5J05swZPfjgg/VmI1yzZo37EgIAAACAF2pQ2Ro5cqTT8r333uvWMAAAAADQVDSobOXk5BiVAwAAAACalIuaIAMAAAAAcG6ULQAAAAAwAGULAAAAAAxA2QIAAAAAA1C2AAAAAMAAlC0AAAAAMABlCwAAAAAMQNkCAAAAAANQtgAAAADAAKaWrffff18DBgxQbGysLBaLXnvtNaftdrtdmZmZio2NVUBAgJKTk7Vnzx6nMRUVFRo/frwiIyMVFBSkgQMH6ujRo434KQAAAACgPlPLVllZma677jotWLDgnNtnz56t7OxsLViwQNu3b5fValWfPn1UUlLiGJOWlqa1a9dq1apV2rJli0pLS9W/f3/V1NQ01scAAAAAgHp8zTx437591bdv33Nus9vtmjdvnqZPn67U1FRJ0tKlSxUdHa0VK1bogQceUHFxsRYvXqxly5apd+/ekqTly5erdevW2rBhg26//fZz7ruiokIVFRWOZZvN5uZPBgAAAKC589h7tg4ePKiCggKlpKQ41vn7+6tHjx7aunWrJGnHjh2qqqpyGhMbG6vExETHmHPJyspSaGio49W6dWvjPggAAACAZsljy1ZBQYEkKTo62ml9dHS0Y1tBQYH8/PwUFhZ23jHnMnXqVBUXFzteR44ccXN6AAAAAM2dqZcRXgiLxeK0bLfb6637oZ8a4+/vL39/f7fkAwAAAIBz8dgzW1arVZLqnaEqLCx0nO2yWq2qrKxUUVHReccAAAAAgBk8tmwlJCTIarUqNzfXsa6yslKbN29Wly5dJEmdOnVSixYtnMbk5+dr9+7djjEAAAAAYAZTLyMsLS3V//73P8fywYMHtXPnToWHhys+Pl5paWmaNWuW2rZtq7Zt22rWrFkKDAzU8OHDJUmhoaEaM2aMJk6cqIiICIWHhysjI0Pt27d3zE4IAAAAAGYwtWx98skn6tmzp2M5PT1dkjRy5EgtWbJEkyZN0unTp/XQQw+pqKhInTt31vr16xUcHOx4z9y5c+Xr66uhQ4fq9OnT6tWrl5YsWSIfH59G/zwAAAAAUMfUspWcnCy73X7e7RaLRZmZmcrMzDzvmJYtW2r+/PmaP3++AQkBAAAAwDUee88WAAAAAHgzyhYAAAAAGICyBQAAAAAGoGwBAAAAgAEoWwAAAABgAMoWAAAAABiAsgUAAAAABqBsAQAAAIABKFsAAAAAYADKFgAAAAAYgLIFAAAAAAagbAEAAACAAShbAAAAAGAAyhYAAAAAGICyBQAAAAAGoGwBAAAAgAEoWwAAAABgAMoWAAAAABiAsgUAAAAABqBsAQAAAIABKFsAAAAAYADKFgAAAAAYgLIFAAAAAAagbAEAAACAAShbAAAAAGAAyhYAAAAAGICyBQAAAAAGoGwBAAAAgAEoWwAAAABgAMoWAAAAABiAsgUAAAAABqBsAQAAAIABKFsAAAAAYADKFgAAAAAYgLIFAAAAAAagbAEAAACAAShbAAAAAGAAyhYAAAAAGICyBQAAAAAGoGwBAAAAgAEoWwAAAABgAMoWAAAAABiAsgUAAAAABqBsAQAAAIABKFsAAAAAYADKFgAAAAAYgLIFAAAAAAagbAEAAACAAShbAAAAAGAAyhYAAAAAGICyBQAAAAAGoGwBAAAAgAEoWwAAAABgAMoWAAAAABiAsgUAAAAABqBsAQAAAIABKFsAAAAAYADKFgAAAAAYwNfsAAAAAPAcJ06ckM1mMztGPXl5eaquqjY7BtAglC0AAABIOlu07h09VqdKys2OUs+Z0+U6eixf8VVVZkcBLhhlCwAAAJIkm82mUyXlanXLEAWFR5sdx0nh/t3KO/J31VRTtuA9KFsAAABwEhQerZCoOLNjOCk9WWB2BKDBKFsAAACNjPuigOaBsgUAANCIuC8KaD4oWwAAAI2I+6KA5oOyBQAAYALuiwKaPh5qDAAAAAAGoGwBAAAAgAEoWwAAAABgAMoWAAAAABiAsgUAAAAABqBsAQAAAIABKFsAAAAAYADKFgAAAAAYgLIFAAAAAAagbAEAAACAAShbAAAAAGAAyhYAAAAAGICyBQAAAAAG8OiylZmZKYvF4vSyWq2O7Xa7XZmZmYqNjVVAQICSk5O1Z88eExMDAAAAwFkeXbYkqV27dsrPz3e8vvjiC8e22bNnKzs7WwsWLND27dtltVrVp08flZSUmJgYAAAAALygbPn6+spqtTperVq1knT2rNa8efM0ffp0paamKjExUUuXLlV5eblWrFhhcmoAAAAAzZ3Hl619+/YpNjZWCQkJuuuuu3TgwAFJ0sGDB1VQUKCUlBTHWH9/f/Xo0UNbt2790X1WVFTIZrM5vQAAAADAnTy6bHXu3FkvvfSS3nnnHb3wwgsqKChQly5ddPLkSRUUFEiSoqOjnd4THR3t2HY+WVlZCg0Ndbxat25t2GcAAAAA0Dx5dNnq27evhgwZovbt26t379568803JUlLly51jLFYLE7vsdvt9db90NSpU1VcXOx4HTlyxP3hAQAAADRrHl22figoKEjt27fXvn37HLMS/vAsVmFhYb2zXT/k7++vkJAQpxcAAAAAuJNXla2Kigp99dVXiomJUUJCgqxWq3Jzcx3bKysrtXnzZnXp0sXElAAAAAAg+Zod4MdkZGRowIABio+PV2FhoR577DHZbDaNHDlSFotFaWlpmjVrltq2bau2bdtq1qxZCgwM1PDhw82ODgAAAKCZ8+iydfToUd1999369ttv1apVK91888366KOP1KZNG0nSpEmTdPr0aT300EMqKipS586dtX79egUHB5ucHAAAAEBz59Fla9WqVT+63WKxKDMzU5mZmY0TCAAAAAAukFfdswUAAAAA3oKyBQAAAAAGoGwBAAAAgAEoWwAAAABgAMoWAAAAABiAsgUAAAAABqBsAQAAAIABKFsAAAAAYADKFgAAAAAYgLIFAAAAAAagbAEAAACAAShbAAAAAGAAyhYAAAAAGICyBQAAAAAGoGwBAAAAgAEoWwAAAABgAMoWAAAAABiAsgUAAAAABqBsAQAAAIABKFsAAAAAYADKFgAAAAAYgLIFAAAAAAagbAEAAACAAShbAAAAAGAAyhYAAAAAGICyBQAAAAAGoGwBAAAAgAEoWwAAAABgAMoWAAAAABiAsgUAAAAABqBsAQAAAIABKFsAAAAAYADKFgAAAAAYwNfsAAAAAEY5ceKEbDab2TGc5OXlqbqq2uwYABoBZQsAADRJJ06c0L2jx+pUSbnZUZycOV2uo8fyFV9VZXYUAAajbAEAgCbJZrPpVEm5Wt0yREHh0WbHcSjcv1t5R/6ummrKFtDUUbYAAECTFhQerZCoOLNjOJSeLDA7AoBGwgQZAAAAAGAAzmwBAPD/eeJkCnVCQkLUqlUrs2MAABqAsgUAgDx3MoU64cGBWp7zIoULALwIZQsAAHnuZAqSVHbqG53Y9qpsNhtlCwC8CGULAIDv8bTJFOqcMDsAAKDBmCADAAAAAAxA2QIAAAAAA1C2AAAAAMAAlC0AAAAAMAATZAAAgIviqc8ny8vLU3VVtdkxADRjlC0AAOAyT34+2ZnT5Tp6LF/xVVVmRwHQTFG2AACAyzz5+WSF+3cr78jfVVNN2QJgDsoWAAC4aJ74fLLSkwVmRwDQzDFBBgAAAAAYgDNbAIBG54kTKjCZAgDA3ShbAIBG5akTKjCZAgDA3ShbAIBG5akTKjCZAgDA3ShbAABTeNqECkymAABwN8oWAABeoKqyUnl5eWbHqId73QDg/ChbADyeJ06mUCckJEStWrUyO8Y5eer3xj/OG66itFiHDh5Q2rRM+fv7mx3HCfe6AcD5UbYAeDRPnUyhTnhwoJbnvOhxhcuTvzf+cd5wVRWnVWvxVeTNqYqIbWN2HCfc6wYA50fZAuDRPHUyBUkqO/WNTmx7VTabzePKlid/b/zj3HWBYa086j43iXvdAODHULYAeAVPm0yhzgmzA/wET/ze+Mc5AKC5uMTsAAAAAADQFFG2AAAAAMAAXEYIAAAAoNF56iMtSkpK3LYvyhYAAACARuXJj7SoqXbf40koWwBwETz1t3I8ywoA4Mk8+ZEW3+UfkrZucsu+KFsA4CJP/q0cz7ICAHgDT3ykRdUZ9z2jkrIFAC7y5N/K8SwrAADMR9kCgIvkib+V41lWAACYj6nfAQAAAMAAlC0AAAAAMABlCwAAAAAMwD1bABxOnDghm81mdgwnTGEOAAC8FWULgKSzReve0WN1qsR90526A1OYAwAAb0XZAiBJstlsOlVSrla3DFFQeLTZcRyYwhwAAHgryhYAJ0Hh0R41jTlTmAMAAG9F2YLLPPH+njohISFq1aqV2TEAAADQjFG24BJPvb+nTnhwoJbnvEjhAgAAgGkoW3CJp97fI0llp77RiW2vymazUbYAAABgGsoWLoqn3d9T54TZAX6Ep15+yRTrAAAA7tVkytbChQv15JNPKj8/X+3atdO8efN06623mh0LcOLJl18yxToAAIB7NYmytXr1aqWlpWnhwoXq2rWrnnvuOfXt21dffvml4uPjzY4HE1RVViovL8/sGPXk5eWp8JRNMd2Hedzll0yxDgAA4F5NomxlZ2drzJgxGjt2rCRp3rx5euedd7Ro0SJlZWWZnA6NraK0WIcOHlDatEz5+/ubHceJ4+xRcLjHXX7JFOsAAADu5fVlq7KyUjt27NCUKVOc1qekpGjr1q3nfE9FRYUqKiocy8XFxWf/t+CwcUFdVFZUqIrTp/Xll1+qpKTE7DgOR44cUeWZM/ou/5CqznjWJXEnj+xTjf0S+f38JoVGRJkdx0nt8YOqzjuqoqMHZKnxrDNItsKjstfWylZwRL4Ws9P8H0/NJZHNVZ6azVNzSWRzladm89RcEtlc5anZPDWX5NnZ6jqB3W6/6H1Z7O7Yi4mOHz+un/3sZ/rwww/VpUsXx/pZs2Zp6dKl2rt3b733ZGZmaubMmY0ZEwAAAIAX2b9/v37+859f1D68/sxWHYvFuRLb7fZ66+pMnTpV6enpjuXvvvtObdq00eHDhxUaGmpoTjRvNptNrVu31pEjRxQSEmJ2HDRh/KyhsfCzhsbCzxoaS3FxseLj4xUeHn7R+/L6shUZGSkfHx8VFDjfb1JYWKjo6HNPQODv73/Oe3lCQ0P5jxeNIiQkhJ81NAp+1tBY+FlDY+FnDY3lkksuufh9uCGHqfz8/NSpUyfl5uY6rc/NzXW6rBAAAAAAGpPXn9mSpPT0dP3mN79RUlKSbrnlFj3//PM6fPiwHnzwQbOjAQAAAGimmkTZGjZsmE6ePKk///nPys/PV2Jiov7973+rTZs2F/R+f39/zZgxw+OmCUfTw88aGgs/a2gs/KyhsfCzhsbizp81r5+NEAAAAAA8kdffswUAAAAAnoiyBQAAAAAGoGwBAAAAgAEoWwAAAABggGZfthYuXKiEhAS1bNlSnTp10gcffGB2JDQxWVlZuvHGGxUcHKyoqCgNGjRIe/fuNTsWmoGsrCxZLBalpaWZHQVN0LFjx3TvvfcqIiJCgYGB6tixo3bs2GF2LDQx1dXV+uMf/6iEhAQFBATo5z//uf785z+rtrbW7GhoAt5//30NGDBAsbGxslgseu2115y22+12ZWZmKjY2VgEBAUpOTtaePXsadIxmXbZWr16ttLQ0TZ8+XZ999pluvfVW9e3bV4cPHzY7GpqQzZs3a9y4cfroo4+Um5ur6upqpaSkqKyszOxoaMK2b9+u559/Xh06dDA7CpqgoqIide3aVS1atNBbb72lL7/8UnPmzNFll11mdjQ0MU888YSeffZZLViwQF999ZVmz56tJ598UvPnzzc7GpqAsrIyXXfddVqwYME5t8+ePVvZ2dlasGCBtm/fLqvVqj59+qikpOSCj9Gsp37v3LmzbrjhBi1atMix7pprrtGgQYOUlZVlYjI0ZSdOnFBUVJQ2b96s7t27mx0HTVBpaaluuOEGLVy4UI899pg6duyoefPmmR0LTciUKVP04YcfcjUIDNe/f39FR0dr8eLFjnVDhgxRYGCgli1bZmIyNDUWi0Vr167VoEGDJJ09qxUbG6u0tDRNnjxZklRRUaHo6Gg98cQTeuCBBy5ov832zFZlZaV27NihlJQUp/UpKSnaunWrSanQHBQXF0uSwsPDTU6CpmrcuHG688471bt3b7OjoIlat26dkpKS9Otf/1pRUVG6/vrr9cILL5gdC01Qt27d9O677+rrr7+WJH3++efasmWL+vXrZ3IyNHUHDx5UQUGBU1fw9/dXjx49GtQVfI0I5w2+/fZb1dTUKDo62ml9dHS0CgoKTEqFps5utys9PV3dunVTYmKi2XHQBK1atUqffvqptm/fbnYUNGEHDhzQokWLlJ6ermnTpunjjz/W73//e/n7+2vEiBFmx0MTMnnyZBUXF+sXv/iFfHx8VFNTo8cff1x333232dHQxNX1gXN1hby8vAveT7MtW3UsFovTst1ur7cOcJeHH35Yu3bt0pYtW8yOgiboyJEjmjBhgtavX6+WLVuaHQdNWG1trZKSkjRr1ixJ0vXXX689e/Zo0aJFlC241erVq7V8+XKtWLFC7dq1086dO5WWlqbY2FiNHDnS7HhoBi62KzTbshUZGSkfH596Z7EKCwvrNVjAHcaPH69169bp/fffV1xcnNlx0ATt2LFDhYWF6tSpk2NdTU2N3n//fS1YsEAVFRXy8fExMSGaipiYGF177bVO66655hq9+uqrJiVCU/WHP/xBU6ZM0V133SVJat++vfLy8pSVlUXZgqGsVquks2e4YmJiHOsb2hWa7T1bfn5+6tSpk3Jzc53W5+bmqkuXLialQlNkt9v18MMPa82aNdq4caMSEhLMjoQmqlevXvriiy+0c+dOxyspKUn33HOPdu7cSdGC23Tt2rXeIyy+/vprtWnTxqREaKrKy8t1ySXO/1z18fFh6ncYLiEhQVar1akrVFZWavPmzQ3qCs32zJYkpaen6ze/+Y2SkpJ0yy236Pnnn9fhw4f14IMPmh0NTci4ceO0YsUKvf766woODnacTQ0NDVVAQIDJ6dCUBAcH17sXMCgoSBEREdwjCLd65JFH1KVLF82aNUtDhw7Vxx9/rOeff17PP/+82dHQxAwYMECPP/644uPj1a5dO3322WfKzs7WfffdZ3Y0NAGlpaX63//+51g+ePCgdu7cqfDwcMXHxystLU2zZs1S27Zt1bZtW82aNUuBgYEaPnz4BR+jWU/9Lp19qPHs2bOVn5+vxMREzZ07l+m44Vbnu643JydHo0aNatwwaHaSk5OZ+h2G+Ne//qWpU6dq3759SkhIUHp6uu6//36zY6GJKSkp0Z/+9CetXbtWhYWFio2N1d13361HH31Ufn5+ZseDl9u0aZN69uxZb/3IkSO1ZMkS2e12zZw5U88995yKiorUuXNnPfPMMw36BWazL1sAAAAAYIRme88WAAAAABiJsgUAAAAABqBsAQAAAIABKFsAAAAAYADKFgAAAAAYgLIFAAAAAAagbAEAAACAAShbAAAAAGAAyhYAAN9z6NAhWSwW7dy50+woAAAvR9kCAHilUaNGyWKxyGKxyNfXV/Hx8frd736noqKiBu1j0KBBTutat26t/Px8JSYmujkxAKC5oWwBALzWHXfcofz8fB06dEgvvvii3njjDT300EMXtU8fHx9ZrVb5+vq6KSUAoLmibAEAvJa/v7+sVqvi4uKUkpKiYcOGaf369ZKkmpoajRkzRgkJCQoICNDVV1+tp556yvHezMxMLV26VK+//rrjDNmmTZvqXUa4adMmWSwWvfvuu0pKSlJgYKC6dOmivXv3OmV57LHHFBUVpeDgYI0dO1ZTpkxRx44dG+urAAB4IMoWAKBJOHDggN5++221aNFCklRbW6u4uDi98sor+vLLL/Xoo49q2rRpeuWVVyRJGRkZGjp0qOPsWH5+vrp06XLe/U+fPl1z5szRJ598Il9fX913332ObS+//LIef/xxPfHEE9qxY4fi4+O1aNEiYz8wAMDjcY0EAMBr/etf/9Kll16qmpoanTlzRpKUnZ0tSWrRooVmzpzpGJuQkKCtW7fqlVde0dChQ3XppZcqICBAFRUVslqtP3msxx9/XD169JAkTZkyRXfeeafOnDmjli1bav78+RozZoxGjx4tSXr00Ue1fv16lZaWuvsjAwC8CGe2AABeq2fPntq5c6f+85//aPz48br99ts1fvx4x/Znn31WSUlJatWqlS699FK98MILOnz4sEvH6tChg+PPMTExkqTCwkJJ0t69e3XTTTc5jf/hMgCg+aFsAQC8VlBQkK688kp16NBBTz/9tCoqKhxns1555RU98sgjuu+++7R+/Xrt3LlTo0ePVmVlpUvHqrs8UZIsFouks5cq/nBdHbvd7tJxAABNB2ULANBkzJgxQ3/72990/PhxffDBB+rSpYseeughXX/99bryyiu1f/9+p/F+fn6qqam56ONeffXV+vjjj53WffLJJxe9XwCAd6NsAQCajOTkZLVr106zZs3SlVdeqU8++UTvvPOOvv76a/3pT3/S9u3bncZffvnl2rVrl/bu3atvv/1WVVVVLh13/PjxWrx4sZYuXap9+/bpscce065du+qd7QIANC+ULQBAk5Kenq4XXnhBgwYNUmpqqoYNG6bOnTvr5MmT9Z7Bdf/99+vqq6923Nf14YcfunTMe+65R1OnTlVGRoZuuOEGHTx4UKNGjVLLli3d8ZEAAF7KYueicgAA3K5Pnz6yWq1atmyZ2VEAACZh6ncAAC5SeXm5nn32Wd1+++3y8fHRypUrtWHDBuXm5podDQBgIs5sAQBwkU6fPq0BAwbo008/VUVFha6++mr98Y9/VGpqqtnRAAAmomwBAAAAgAGYIAMAAAAADEDZAgAAAAADULYAAAAAwACULQAAAAAwAGULAAAAAAxA2QIAAAAAA1C2AAAAAMAAlC0AAAAAMMD/A79HeJK6GtiCAAAAAElFTkSuQmCC",
      "text/plain": [
       "<Figure size 1000x600 with 1 Axes>"
      ]
     },
     "metadata": {},
     "output_type": "display_data"
    }
   ],
   "source": [
    "df_sorted = df.sort_values(by=\"Rating\")\n",
    "# Create a histogram of the \"Ratings\" column\n",
    "plt.figure(figsize=(10, 6))  # Adjust the figure size as needed\n",
    "\n",
    "# Create a histogram of the \"Ratings\" column\n",
    "plt.hist(df_sorted[\"Rating\"], bins=20, edgecolor=\"k\", alpha=0.7)\n",
    "\n",
    "plt.title(\"Distribution of Ratings\")\n",
    "plt.xlabel(\"Rating\")\n",
    "plt.ylabel(\"Frequency\")\n",
    "plt.grid(False)\n",
    "plt.xlim(df_sorted[\"Rating\"].min(), df_sorted[\"Rating\"].max())\n",
    "plt.ylim(0, plt.gca().get_ylim()[1])\n",
    "plt.show()"
   ]
  },
  {
   "cell_type": "code",
   "execution_count": 1998,
   "id": "753ff69a",
   "metadata": {},
   "outputs": [
    {
     "ename": "ValueError",
     "evalue": "\nAll the 80 fits failed.\nIt is very likely that your model is misconfigured.\nYou can try to debug the error by setting error_score='raise'.\n\nBelow are more details about the failures:\n--------------------------------------------------------------------------------\n80 fits failed with the following error:\nTraceback (most recent call last):\n  File \"/Users/thorsteinfougner/anaconda3/lib/python3.11/site-packages/sklearn/model_selection/_validation.py\", line 732, in _fit_and_score\n    estimator.fit(X_train, y_train, **fit_params)\n  File \"/Users/thorsteinfougner/anaconda3/lib/python3.11/site-packages/sklearn/base.py\", line 1151, in wrapper\n    return fit_method(estimator, *args, **kwargs)\n           ^^^^^^^^^^^^^^^^^^^^^^^^^^^^^^^^^^^^^^\n  File \"/Users/thorsteinfougner/anaconda3/lib/python3.11/site-packages/sklearn/neighbors/_regression.py\", line 218, in fit\n    return self._fit(X, y)\n           ^^^^^^^^^^^^^^^\n  File \"/Users/thorsteinfougner/anaconda3/lib/python3.11/site-packages/sklearn/neighbors/_base.py\", line 456, in _fit\n    X, y = self._validate_data(\n           ^^^^^^^^^^^^^^^^^^^^\n  File \"/Users/thorsteinfougner/anaconda3/lib/python3.11/site-packages/sklearn/base.py\", line 621, in _validate_data\n    X, y = check_X_y(X, y, **check_params)\n           ^^^^^^^^^^^^^^^^^^^^^^^^^^^^^^^\n  File \"/Users/thorsteinfougner/anaconda3/lib/python3.11/site-packages/sklearn/utils/validation.py\", line 1163, in check_X_y\n    y = _check_y(y, multi_output=multi_output, y_numeric=y_numeric, estimator=estimator)\n        ^^^^^^^^^^^^^^^^^^^^^^^^^^^^^^^^^^^^^^^^^^^^^^^^^^^^^^^^^^^^^^^^^^^^^^^^^^^^^^^^\n  File \"/Users/thorsteinfougner/anaconda3/lib/python3.11/site-packages/sklearn/utils/validation.py\", line 1173, in _check_y\n    y = check_array(\n        ^^^^^^^^^^^^\n  File \"/Users/thorsteinfougner/anaconda3/lib/python3.11/site-packages/sklearn/utils/validation.py\", line 959, in check_array\n    _assert_all_finite(\n  File \"/Users/thorsteinfougner/anaconda3/lib/python3.11/site-packages/sklearn/utils/validation.py\", line 124, in _assert_all_finite\n    _assert_all_finite_element_wise(\n  File \"/Users/thorsteinfougner/anaconda3/lib/python3.11/site-packages/sklearn/utils/validation.py\", line 173, in _assert_all_finite_element_wise\n    raise ValueError(msg_err)\nValueError: Input y contains NaN.\n",
     "output_type": "error",
     "traceback": [
      "\u001b[0;31m---------------------------------------------------------------------------\u001b[0m",
      "\u001b[0;31mValueError\u001b[0m                                Traceback (most recent call last)",
      "\u001b[1;32m/Users/thorsteinfougner/Documents/INFO345-GroupProject/recsys.ipynb Cell 11\u001b[0m line \u001b[0;36m4\n\u001b[1;32m     <a href='vscode-notebook-cell:/Users/thorsteinfougner/Documents/INFO345-GroupProject/recsys.ipynb#Y124sZmlsZQ%3D%3D?line=38'>39</a>\u001b[0m param_grid \u001b[39m=\u001b[39m {\n\u001b[1;32m     <a href='vscode-notebook-cell:/Users/thorsteinfougner/Documents/INFO345-GroupProject/recsys.ipynb#Y124sZmlsZQ%3D%3D?line=39'>40</a>\u001b[0m     \u001b[39m'\u001b[39m\u001b[39mn_neighbors\u001b[39m\u001b[39m'\u001b[39m: [\u001b[39m3\u001b[39m,\u001b[39m5\u001b[39m,\u001b[39m7\u001b[39m,\u001b[39m9\u001b[39m,\u001b[39m11\u001b[39m,\u001b[39m13\u001b[39m,\u001b[39m15\u001b[39m,\u001b[39m17\u001b[39m],\n\u001b[1;32m     <a href='vscode-notebook-cell:/Users/thorsteinfougner/Documents/INFO345-GroupProject/recsys.ipynb#Y124sZmlsZQ%3D%3D?line=40'>41</a>\u001b[0m     \u001b[39m'\u001b[39m\u001b[39mp\u001b[39m\u001b[39m'\u001b[39m: [\u001b[39m1\u001b[39m, \u001b[39m2\u001b[39m]\n\u001b[1;32m     <a href='vscode-notebook-cell:/Users/thorsteinfougner/Documents/INFO345-GroupProject/recsys.ipynb#Y124sZmlsZQ%3D%3D?line=41'>42</a>\u001b[0m }\n\u001b[1;32m     <a href='vscode-notebook-cell:/Users/thorsteinfougner/Documents/INFO345-GroupProject/recsys.ipynb#Y124sZmlsZQ%3D%3D?line=42'>43</a>\u001b[0m grid_search \u001b[39m=\u001b[39m GridSearchCV(estimator\u001b[39m=\u001b[39mKNeighborsRegressor(), param_grid\u001b[39m=\u001b[39mparam_grid, scoring\u001b[39m=\u001b[39m\u001b[39m'\u001b[39m\u001b[39maccuracy\u001b[39m\u001b[39m'\u001b[39m, cv\u001b[39m=\u001b[39m\u001b[39m5\u001b[39m)\n\u001b[0;32m---> <a href='vscode-notebook-cell:/Users/thorsteinfougner/Documents/INFO345-GroupProject/recsys.ipynb#Y124sZmlsZQ%3D%3D?line=43'>44</a>\u001b[0m grid_search\u001b[39m.\u001b[39mfit(X_train, y_train)\n\u001b[1;32m     <a href='vscode-notebook-cell:/Users/thorsteinfougner/Documents/INFO345-GroupProject/recsys.ipynb#Y124sZmlsZQ%3D%3D?line=44'>45</a>\u001b[0m params \u001b[39m=\u001b[39m grid_search\u001b[39m.\u001b[39mbest_params_\n\u001b[1;32m     <a href='vscode-notebook-cell:/Users/thorsteinfougner/Documents/INFO345-GroupProject/recsys.ipynb#Y124sZmlsZQ%3D%3D?line=45'>46</a>\u001b[0m \u001b[39mprint\u001b[39m(params)\n",
      "File \u001b[0;32m~/anaconda3/lib/python3.11/site-packages/sklearn/base.py:1151\u001b[0m, in \u001b[0;36m_fit_context.<locals>.decorator.<locals>.wrapper\u001b[0;34m(estimator, *args, **kwargs)\u001b[0m\n\u001b[1;32m   1144\u001b[0m     estimator\u001b[39m.\u001b[39m_validate_params()\n\u001b[1;32m   1146\u001b[0m \u001b[39mwith\u001b[39;00m config_context(\n\u001b[1;32m   1147\u001b[0m     skip_parameter_validation\u001b[39m=\u001b[39m(\n\u001b[1;32m   1148\u001b[0m         prefer_skip_nested_validation \u001b[39mor\u001b[39;00m global_skip_validation\n\u001b[1;32m   1149\u001b[0m     )\n\u001b[1;32m   1150\u001b[0m ):\n\u001b[0;32m-> 1151\u001b[0m     \u001b[39mreturn\u001b[39;00m fit_method(estimator, \u001b[39m*\u001b[39margs, \u001b[39m*\u001b[39m\u001b[39m*\u001b[39mkwargs)\n",
      "File \u001b[0;32m~/anaconda3/lib/python3.11/site-packages/sklearn/model_selection/_search.py:898\u001b[0m, in \u001b[0;36mBaseSearchCV.fit\u001b[0;34m(self, X, y, groups, **fit_params)\u001b[0m\n\u001b[1;32m    892\u001b[0m     results \u001b[39m=\u001b[39m \u001b[39mself\u001b[39m\u001b[39m.\u001b[39m_format_results(\n\u001b[1;32m    893\u001b[0m         all_candidate_params, n_splits, all_out, all_more_results\n\u001b[1;32m    894\u001b[0m     )\n\u001b[1;32m    896\u001b[0m     \u001b[39mreturn\u001b[39;00m results\n\u001b[0;32m--> 898\u001b[0m \u001b[39mself\u001b[39m\u001b[39m.\u001b[39m_run_search(evaluate_candidates)\n\u001b[1;32m    900\u001b[0m \u001b[39m# multimetric is determined here because in the case of a callable\u001b[39;00m\n\u001b[1;32m    901\u001b[0m \u001b[39m# self.scoring the return type is only known after calling\u001b[39;00m\n\u001b[1;32m    902\u001b[0m first_test_score \u001b[39m=\u001b[39m all_out[\u001b[39m0\u001b[39m][\u001b[39m\"\u001b[39m\u001b[39mtest_scores\u001b[39m\u001b[39m\"\u001b[39m]\n",
      "File \u001b[0;32m~/anaconda3/lib/python3.11/site-packages/sklearn/model_selection/_search.py:1419\u001b[0m, in \u001b[0;36mGridSearchCV._run_search\u001b[0;34m(self, evaluate_candidates)\u001b[0m\n\u001b[1;32m   1417\u001b[0m \u001b[39mdef\u001b[39;00m \u001b[39m_run_search\u001b[39m(\u001b[39mself\u001b[39m, evaluate_candidates):\n\u001b[1;32m   1418\u001b[0m \u001b[39m    \u001b[39m\u001b[39m\"\"\"Search all candidates in param_grid\"\"\"\u001b[39;00m\n\u001b[0;32m-> 1419\u001b[0m     evaluate_candidates(ParameterGrid(\u001b[39mself\u001b[39m\u001b[39m.\u001b[39mparam_grid))\n",
      "File \u001b[0;32m~/anaconda3/lib/python3.11/site-packages/sklearn/model_selection/_search.py:875\u001b[0m, in \u001b[0;36mBaseSearchCV.fit.<locals>.evaluate_candidates\u001b[0;34m(candidate_params, cv, more_results)\u001b[0m\n\u001b[1;32m    868\u001b[0m \u001b[39melif\u001b[39;00m \u001b[39mlen\u001b[39m(out) \u001b[39m!=\u001b[39m n_candidates \u001b[39m*\u001b[39m n_splits:\n\u001b[1;32m    869\u001b[0m     \u001b[39mraise\u001b[39;00m \u001b[39mValueError\u001b[39;00m(\n\u001b[1;32m    870\u001b[0m         \u001b[39m\"\u001b[39m\u001b[39mcv.split and cv.get_n_splits returned \u001b[39m\u001b[39m\"\u001b[39m\n\u001b[1;32m    871\u001b[0m         \u001b[39m\"\u001b[39m\u001b[39minconsistent results. Expected \u001b[39m\u001b[39m{}\u001b[39;00m\u001b[39m \u001b[39m\u001b[39m\"\u001b[39m\n\u001b[1;32m    872\u001b[0m         \u001b[39m\"\u001b[39m\u001b[39msplits, got \u001b[39m\u001b[39m{}\u001b[39;00m\u001b[39m\"\u001b[39m\u001b[39m.\u001b[39mformat(n_splits, \u001b[39mlen\u001b[39m(out) \u001b[39m/\u001b[39m\u001b[39m/\u001b[39m n_candidates)\n\u001b[1;32m    873\u001b[0m     )\n\u001b[0;32m--> 875\u001b[0m _warn_or_raise_about_fit_failures(out, \u001b[39mself\u001b[39m\u001b[39m.\u001b[39merror_score)\n\u001b[1;32m    877\u001b[0m \u001b[39m# For callable self.scoring, the return type is only know after\u001b[39;00m\n\u001b[1;32m    878\u001b[0m \u001b[39m# calling. If the return type is a dictionary, the error scores\u001b[39;00m\n\u001b[1;32m    879\u001b[0m \u001b[39m# can now be inserted with the correct key. The type checking\u001b[39;00m\n\u001b[1;32m    880\u001b[0m \u001b[39m# of out will be done in `_insert_error_scores`.\u001b[39;00m\n\u001b[1;32m    881\u001b[0m \u001b[39mif\u001b[39;00m \u001b[39mcallable\u001b[39m(\u001b[39mself\u001b[39m\u001b[39m.\u001b[39mscoring):\n",
      "File \u001b[0;32m~/anaconda3/lib/python3.11/site-packages/sklearn/model_selection/_validation.py:414\u001b[0m, in \u001b[0;36m_warn_or_raise_about_fit_failures\u001b[0;34m(results, error_score)\u001b[0m\n\u001b[1;32m    407\u001b[0m \u001b[39mif\u001b[39;00m num_failed_fits \u001b[39m==\u001b[39m num_fits:\n\u001b[1;32m    408\u001b[0m     all_fits_failed_message \u001b[39m=\u001b[39m (\n\u001b[1;32m    409\u001b[0m         \u001b[39mf\u001b[39m\u001b[39m\"\u001b[39m\u001b[39m\\n\u001b[39;00m\u001b[39mAll the \u001b[39m\u001b[39m{\u001b[39;00mnum_fits\u001b[39m}\u001b[39;00m\u001b[39m fits failed.\u001b[39m\u001b[39m\\n\u001b[39;00m\u001b[39m\"\u001b[39m\n\u001b[1;32m    410\u001b[0m         \u001b[39m\"\u001b[39m\u001b[39mIt is very likely that your model is misconfigured.\u001b[39m\u001b[39m\\n\u001b[39;00m\u001b[39m\"\u001b[39m\n\u001b[1;32m    411\u001b[0m         \u001b[39m\"\u001b[39m\u001b[39mYou can try to debug the error by setting error_score=\u001b[39m\u001b[39m'\u001b[39m\u001b[39mraise\u001b[39m\u001b[39m'\u001b[39m\u001b[39m.\u001b[39m\u001b[39m\\n\u001b[39;00m\u001b[39m\\n\u001b[39;00m\u001b[39m\"\u001b[39m\n\u001b[1;32m    412\u001b[0m         \u001b[39mf\u001b[39m\u001b[39m\"\u001b[39m\u001b[39mBelow are more details about the failures:\u001b[39m\u001b[39m\\n\u001b[39;00m\u001b[39m{\u001b[39;00mfit_errors_summary\u001b[39m}\u001b[39;00m\u001b[39m\"\u001b[39m\n\u001b[1;32m    413\u001b[0m     )\n\u001b[0;32m--> 414\u001b[0m     \u001b[39mraise\u001b[39;00m \u001b[39mValueError\u001b[39;00m(all_fits_failed_message)\n\u001b[1;32m    416\u001b[0m \u001b[39melse\u001b[39;00m:\n\u001b[1;32m    417\u001b[0m     some_fits_failed_message \u001b[39m=\u001b[39m (\n\u001b[1;32m    418\u001b[0m         \u001b[39mf\u001b[39m\u001b[39m\"\u001b[39m\u001b[39m\\n\u001b[39;00m\u001b[39m{\u001b[39;00mnum_failed_fits\u001b[39m}\u001b[39;00m\u001b[39m fits failed out of a total of \u001b[39m\u001b[39m{\u001b[39;00mnum_fits\u001b[39m}\u001b[39;00m\u001b[39m.\u001b[39m\u001b[39m\\n\u001b[39;00m\u001b[39m\"\u001b[39m\n\u001b[1;32m    419\u001b[0m         \u001b[39m\"\u001b[39m\u001b[39mThe score on these train-test partitions for these parameters\u001b[39m\u001b[39m\"\u001b[39m\n\u001b[0;32m   (...)\u001b[0m\n\u001b[1;32m    423\u001b[0m         \u001b[39mf\u001b[39m\u001b[39m\"\u001b[39m\u001b[39mBelow are more details about the failures:\u001b[39m\u001b[39m\\n\u001b[39;00m\u001b[39m{\u001b[39;00mfit_errors_summary\u001b[39m}\u001b[39;00m\u001b[39m\"\u001b[39m\n\u001b[1;32m    424\u001b[0m     )\n",
      "\u001b[0;31mValueError\u001b[0m: \nAll the 80 fits failed.\nIt is very likely that your model is misconfigured.\nYou can try to debug the error by setting error_score='raise'.\n\nBelow are more details about the failures:\n--------------------------------------------------------------------------------\n80 fits failed with the following error:\nTraceback (most recent call last):\n  File \"/Users/thorsteinfougner/anaconda3/lib/python3.11/site-packages/sklearn/model_selection/_validation.py\", line 732, in _fit_and_score\n    estimator.fit(X_train, y_train, **fit_params)\n  File \"/Users/thorsteinfougner/anaconda3/lib/python3.11/site-packages/sklearn/base.py\", line 1151, in wrapper\n    return fit_method(estimator, *args, **kwargs)\n           ^^^^^^^^^^^^^^^^^^^^^^^^^^^^^^^^^^^^^^\n  File \"/Users/thorsteinfougner/anaconda3/lib/python3.11/site-packages/sklearn/neighbors/_regression.py\", line 218, in fit\n    return self._fit(X, y)\n           ^^^^^^^^^^^^^^^\n  File \"/Users/thorsteinfougner/anaconda3/lib/python3.11/site-packages/sklearn/neighbors/_base.py\", line 456, in _fit\n    X, y = self._validate_data(\n           ^^^^^^^^^^^^^^^^^^^^\n  File \"/Users/thorsteinfougner/anaconda3/lib/python3.11/site-packages/sklearn/base.py\", line 621, in _validate_data\n    X, y = check_X_y(X, y, **check_params)\n           ^^^^^^^^^^^^^^^^^^^^^^^^^^^^^^^\n  File \"/Users/thorsteinfougner/anaconda3/lib/python3.11/site-packages/sklearn/utils/validation.py\", line 1163, in check_X_y\n    y = _check_y(y, multi_output=multi_output, y_numeric=y_numeric, estimator=estimator)\n        ^^^^^^^^^^^^^^^^^^^^^^^^^^^^^^^^^^^^^^^^^^^^^^^^^^^^^^^^^^^^^^^^^^^^^^^^^^^^^^^^\n  File \"/Users/thorsteinfougner/anaconda3/lib/python3.11/site-packages/sklearn/utils/validation.py\", line 1173, in _check_y\n    y = check_array(\n        ^^^^^^^^^^^^\n  File \"/Users/thorsteinfougner/anaconda3/lib/python3.11/site-packages/sklearn/utils/validation.py\", line 959, in check_array\n    _assert_all_finite(\n  File \"/Users/thorsteinfougner/anaconda3/lib/python3.11/site-packages/sklearn/utils/validation.py\", line 124, in _assert_all_finite\n    _assert_all_finite_element_wise(\n  File \"/Users/thorsteinfougner/anaconda3/lib/python3.11/site-packages/sklearn/utils/validation.py\", line 173, in _assert_all_finite_element_wise\n    raise ValueError(msg_err)\nValueError: Input y contains NaN.\n"
     ]
    }
   ],
   "source": [
    "from sklearn.model_selection import train_test_split\n",
    "from sklearn.neighbors import KNeighborsClassifier\n",
    "from sklearn.neighbors import KNeighborsRegressor\n",
    "from sklearn.metrics import confusion_matrix\n",
    "from copy import deepcopy\n",
    "import numpy as np\n",
    "\n",
    "# Datasett for trening. Gjør om strenger til kategorier (int)\n",
    "x = deepcopy(df)\n",
    "x = x.drop([\"Title\"], axis = 1)\n",
    "x = x.drop([\"Desc\"], axis = 1)\n",
    "x = x.drop([\"RatingDesc\"], axis = 1)\n",
    "x['Level'] = pd.factorize(x['Level'])[0]\n",
    "x['Type'] = pd.factorize(x['Type'])[0]\n",
    "x['BodyPart'] = pd.factorize(x['BodyPart'])[0]\n",
    "x['Equipment'] = pd.factorize(x['Equipment'])[0]\n",
    "x = x[x['Rating'].notna()]\n",
    "x = x[df[\"Rating\"] != 0]\n",
    "# Verdier som skal predikeres, brukes for trening og testing\n",
    "y = x[\"Rating\"]\n",
    "x = x.drop([\"Rating\"], axis = 1)\n",
    "\n",
    "\n",
    "\n",
    "# Train test split\n",
    "X_train, X_test, y_train, y_test = train_test_split(x, y, test_size=0.2, random_state=3)\n",
    "\n",
    "# Grid search for å finne beste params\n",
    "from sklearn.model_selection import GridSearchCV\n",
    "'''\n",
    "param_grid = {\n",
    "    'n_neighbors': [3,5,7,9,11,13,15,17],\n",
    "    'p': [1, 2]\n",
    "}\n",
    "grid_search = GridSearchCV(estimator=KNeighborsClassifier(), param_grid=param_grid, scoring='accuracy', cv=5)\n",
    "grid_search.fit(X_train, y_train)\n",
    "params = grid_search.best_params_\n",
    "'''\n",
    "param_grid = {\n",
    "    'n_neighbors': [3,5,7,9,11,13,15,17],\n",
    "    'p': [1, 2]\n",
    "}\n",
    "grid_search = GridSearchCV(estimator=KNeighborsRegressor(), param_grid=param_grid, scoring='accuracy', cv=5)\n",
    "grid_search.fit(X_train, y_train)\n",
    "params = grid_search.best_params_\n",
    "print(params)\n",
    "\n",
    "# Traiing\n",
    "knn = KNeighborsRegressor(n_neighbors = params['n_neighbors'], p = params[\"p\"])\n",
    "knn.fit(X_train, y_train)\n",
    "\n",
    "\n",
    "# Ny variabel X. Alle rader fra dataframe som ikke har rating\n",
    "x = deepcopy(df)\n",
    "# Ekskluderer øvelser med ratings\n",
    "#x = x[x[\"Rating\"].isna()]\n",
    "x = x[df[\"Rating\"] == 0]\n",
    "\n",
    "# Gjør om strenger til kategorier (int) for prediction\n",
    "x = x.drop([\"Rating\"], axis = 1)\n",
    "x = x.drop([\"Title\"], axis = 1)\n",
    "x = x.drop([\"Desc\"], axis = 1)\n",
    "x = x.drop([\"RatingDesc\"], axis = 1)\n",
    "x['Level'] = pd.factorize(x['Level'])[0]\n",
    "x['Type'] = pd.factorize(x['Type'])[0]\n",
    "x['BodyPart'] = pd.factorize(x['BodyPart'])[0]\n",
    "x['Equipment'] = pd.factorize(x['Equipment'])[0]\n",
    "\n",
    "# Antall nonvalues\n",
    "print(\"Nonvalues rating før:\",df[\"Rating\"].isna().sum())\n",
    "\n",
    "# Predikerer en rating for hver rad i dataframe som ikke har rating\n",
    "for index, row in x.iterrows():\n",
    "    rating = knn.predict([row])\n",
    "    #print(row[\"index\"], rating)\n",
    "    df.loc[df['index'] == index, 'Rating'] = rating\n",
    "\n",
    "print(\"Nonvalues rating etter\",df[\"Rating\"].isna().sum())\n",
    "\n",
    "filtered_df = df[df[\"Rating\"] == 0]\n",
    "print(len(filtered_df))"
   ]
  },
  {
   "cell_type": "code",
   "execution_count": null,
   "id": "e7d3a263",
   "metadata": {},
   "outputs": [
    {
     "data": {
      "image/png": "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",
      "text/plain": [
       "<Figure size 1000x600 with 1 Axes>"
      ]
     },
     "metadata": {},
     "output_type": "display_data"
    }
   ],
   "source": [
    "df_sorted = df.sort_values(by=\"Rating\")\n",
    "# Create a histogram of the \"Ratings\" column\n",
    "plt.figure(figsize=(10, 6))  # Adjust the figure size as needed\n",
    "\n",
    "# Create a histogram of the \"Ratings\" column\n",
    "plt.hist(df_sorted[\"Rating\"], bins=20, edgecolor=\"k\", alpha=0.7)\n",
    "\n",
    "plt.title(\"Distribution of Ratings\")\n",
    "plt.xlabel(\"Rating\")\n",
    "plt.ylabel(\"Frequency\")\n",
    "plt.grid(False)\n",
    "plt.xlim(df_sorted[\"Rating\"].min(), df_sorted[\"Rating\"].max())\n",
    "plt.ylim(0, plt.gca().get_ylim()[1])\n",
    "plt.show()"
   ]
  },
  {
   "cell_type": "code",
   "execution_count": null,
   "id": "f4f4b8e4",
   "metadata": {},
   "outputs": [],
   "source": [
    "#print(x[\"Rating\"])\n",
    "#import numpy as np\n",
    "#print(x[\"Rating\"].dtypes)\n",
    "#x = x[x[\"Rating\"].isna()]\n",
    "#print(x[\"Rating\"])"
   ]
  },
  {
   "cell_type": "code",
   "execution_count": null,
   "id": "55ae6ec9",
   "metadata": {},
   "outputs": [
    {
     "data": {
      "text/plain": [
       "0          0\n",
       "1          1\n",
       "2          2\n",
       "3          3\n",
       "4          4\n",
       "        ... \n",
       "2911    2911\n",
       "2912    2912\n",
       "2913    2913\n",
       "2915    2915\n",
       "2916    2916\n",
<<<<<<< Updated upstream
       "Name: Unnamed: 0, Length: 1368, dtype: int64"
      ]
     },
     "execution_count": 4,
=======
       "Name: index, Length: 1368, dtype: int64"
      ]
     },
     "execution_count": 1970,
>>>>>>> Stashed changes
     "metadata": {},
     "output_type": "execute_result"
    }
   ],
   "source": [
    "# Removing columns with lots of nonvalues\n",
    "#df = df.drop('Rating', axis=1)\n",
    "df = df.drop('RatingDesc', axis=1)\n",
    "# Removing all rows containing nonvalues in description\n",
    "df = df[df['Desc'].notna()]\n",
    "#df = df[df['Rating'].notna()]\n",
    "# Removing ID column\n",
    "df.pop(df.columns[0])\n",
    "\n"
   ]
  },
  {
   "cell_type": "code",
   "execution_count": 5,
   "id": "d61d5987",
   "metadata": {},
   "outputs": [
    {
     "data": {
      "text/plain": [
<<<<<<< Updated upstream
       "Title        object\n",
       "Desc         object\n",
       "Type         object\n",
       "BodyPart     object\n",
       "Equipment    object\n",
       "Level        object\n",
       "dtype: object"
      ]
     },
     "execution_count": 5,
=======
       "Title         object\n",
       "Desc          object\n",
       "Type          object\n",
       "BodyPart      object\n",
       "Equipment     object\n",
       "Level         object\n",
       "Rating       float64\n",
       "dtype: object"
      ]
     },
     "execution_count": 1971,
>>>>>>> Stashed changes
     "metadata": {},
     "output_type": "execute_result"
    }
   ],
   "source": [
    "# Checking datatypes\n",
    "df.dtypes"
   ]
  },
  {
   "cell_type": "code",
   "execution_count": 6,
   "id": "f2546d29",
   "metadata": {},
   "outputs": [],
   "source": [
    "# Merging columns for cosign similarity and dropping excess columns\n",
    "df[\"Merged\"] = df[\"Type\"].astype(str) + '|' + \\\n",
    "  df[\"BodyPart\"].astype(str) + '|' + df[\"Equipment\"].astype(str) + '|' + \\\n",
    "  df[\"Level\"]\n",
    "\n",
    "df = df.drop('Type', axis=1)\n",
    "df = df.drop('BodyPart', axis=1)\n",
    "df = df.drop('Equipment', axis=1)\n",
    "df = df.drop('Level', axis=1)"
   ]
  },
  {
   "cell_type": "code",
   "execution_count": 7,
   "id": "9a6dd1c5",
   "metadata": {},
   "outputs": [
    {
     "data": {
      "text/plain": [
       "0           Strength|Abdominals|Bands|Intermediate\n",
       "1           Strength|Abdominals|Bands|Intermediate\n",
       "2           Strength|Abdominals|Bands|Intermediate\n",
       "3           Strength|Abdominals|Bands|Intermediate\n",
       "4           Strength|Abdominals|Bands|Intermediate\n",
       "                           ...                    \n",
       "2911    Strength|Triceps|E-Z Curl Bar|Intermediate\n",
       "2912    Strength|Triceps|E-Z Curl Bar|Intermediate\n",
       "2913    Strength|Triceps|E-Z Curl Bar|Intermediate\n",
       "2915    Strength|Triceps|E-Z Curl Bar|Intermediate\n",
       "2916    Strength|Triceps|E-Z Curl Bar|Intermediate\n",
       "Name: Merged, Length: 1368, dtype: object"
      ]
     },
<<<<<<< Updated upstream
     "execution_count": 7,
=======
     "execution_count": 1973,
>>>>>>> Stashed changes
     "metadata": {},
     "output_type": "execute_result"
    }
   ],
   "source": [
    "# The merged columns\n",
    "df[\"Merged\"]"
   ]
  },
  {
   "cell_type": "code",
   "execution_count": 8,
   "id": "dfb7e4ee",
   "metadata": {},
   "outputs": [],
   "source": [
    "# Converting values of the merged column into vectors\n",
    "\n",
    "from sklearn.feature_extraction.text import CountVectorizer\n",
    "count = CountVectorizer()\n",
    "count_matrix = count.fit_transform(df.loc[:,\"Merged\"])\n",
    "\n",
    "liste = count_matrix.toarray()"
   ]
  },
  {
   "cell_type": "code",
   "execution_count": 9,
   "id": "30da5135",
   "metadata": {},
   "outputs": [],
   "source": [
    "# Cosine similarity\n",
    "from sklearn.metrics.pairwise import cosine_similarity\n",
    "sim_matrix = cosine_similarity(count_matrix, count_matrix)"
   ]
  },
  {
   "cell_type": "code",
   "execution_count": 10,
   "id": "c728acee",
   "metadata": {},
   "outputs": [],
   "source": [
    "#sim_matrix"
   ]
  },
  {
   "cell_type": "code",
   "execution_count": 11,
   "id": "d8bf3c95",
   "metadata": {},
   "outputs": [],
   "source": [
    "# Resetting the index to avoid indexing errors and NAN values in recommender\n",
    "# This makes the previous indexes invalid\n",
    "# \"drop\" avoids adding the old index as a column\n",
    "df = df.reset_index(drop = False)"
   ]
  },
  {
   "cell_type": "code",
   "execution_count": 12,
   "id": "46fe3aca",
   "metadata": {},
   "outputs": [],
   "source": [
    "def recommender(data_frame, exercise_id, sim_matrix):\n",
    "    sim_df = pd.DataFrame(sim_matrix[exercise_id],\n",
    "                         columns=[\"similarity\"])\n",
    "    exercise_titles = data_frame.loc[:, \"Title\"]\n",
    "    exercise_rec = pd.concat([sim_df, exercise_titles], axis = 1)\n",
    "\n",
    "    exercise_rec = exercise_rec.sort_values(by=[\"similarity\"], ascending = False)\n",
    "\n",
    "    return exercise_rec.iloc[1:20,:]"
   ]
  },
  {
   "cell_type": "code",
   "execution_count": 13,
   "id": "68d7fc4a",
   "metadata": {},
   "outputs": [
    {
     "name": "stdout",
     "output_type": "stream",
     "text": [
      "     index        Title                                               Desc  \\\n",
      "454    942  Bench press  The bench press is a popular barbell exercise ...   \n",
      "\n",
<<<<<<< Updated upstream
      "                                  Merged  \n",
      "454  Strength|Chest|Barbell|Intermediate  \n"
=======
      "     Rating                               Merged  \n",
      "454    10.0  Strength|Chest|Barbell|Intermediate  \n"
>>>>>>> Stashed changes
     ]
    }
   ],
   "source": [
    "# Prints the row of the given Title to find the index\n",
    "row = df[df[\"Title\"] == \"Bench press\"]\n",
    "index = row.index"
   ]
  },
  {
   "cell_type": "code",
   "execution_count": 14,
   "id": "c691750a",
   "metadata": {},
   "outputs": [
    {
     "data": {
      "text/html": [
       "<div>\n",
       "<style scoped>\n",
       "    .dataframe tbody tr th:only-of-type {\n",
       "        vertical-align: middle;\n",
       "    }\n",
       "\n",
       "    .dataframe tbody tr th {\n",
       "        vertical-align: top;\n",
       "    }\n",
       "\n",
       "    .dataframe thead th {\n",
       "        text-align: right;\n",
       "    }\n",
       "</style>\n",
       "<table border=\"1\" class=\"dataframe\">\n",
       "  <thead>\n",
       "    <tr style=\"text-align: right;\">\n",
       "      <th></th>\n",
       "      <th>similarity</th>\n",
       "      <th>Title</th>\n",
       "    </tr>\n",
       "  </thead>\n",
       "  <tbody>\n",
       "    <tr>\n",
<<<<<<< Updated upstream
       "      <th>459</th>\n",
       "      <td>1.00</td>\n",
       "      <td>King Maker Barbell Bench Press</td>\n",
       "    </tr>\n",
       "    <tr>\n",
       "      <th>445</th>\n",
       "      <td>1.00</td>\n",
       "      <td>Barbell Bench Press - Medium Grip</td>\n",
       "    </tr>\n",
       "    <tr>\n",
       "      <th>446</th>\n",
       "      <td>1.00</td>\n",
       "      <td>Decline barbell bench press</td>\n",
       "    </tr>\n",
       "    <tr>\n",
       "      <th>448</th>\n",
       "      <td>1.00</td>\n",
       "      <td>Barbell Incline Bench Press Medium-Grip</td>\n",
       "    </tr>\n",
       "    <tr>\n",
       "      <th>452</th>\n",
       "      <td>1.00</td>\n",
       "      <td>Paul Carter Incline Bench Press</td>\n",
       "    </tr>\n",
       "    <tr>\n",
       "      <th>453</th>\n",
       "      <td>1.00</td>\n",
       "      <td>Incline bench press</td>\n",
       "    </tr>\n",
       "    <tr>\n",
       "      <th>455</th>\n",
       "      <td>1.00</td>\n",
       "      <td>TBS Close-Grip Bench Press</td>\n",
       "    </tr>\n",
       "    <tr>\n",
       "      <th>456</th>\n",
       "      <td>1.00</td>\n",
       "      <td>AM Flat Bench Barbell Press</td>\n",
       "    </tr>\n",
       "    <tr>\n",
       "      <th>457</th>\n",
       "      <td>1.00</td>\n",
       "      <td>UP Bench Press</td>\n",
       "    </tr>\n",
       "    <tr>\n",
       "      <th>458</th>\n",
       "      <td>1.00</td>\n",
       "      <td>UP Close-Grip Bench Press</td>\n",
       "    </tr>\n",
       "    <tr>\n",
       "      <th>444</th>\n",
       "      <td>1.00</td>\n",
       "      <td>Close-grip bench press</td>\n",
       "    </tr>\n",
       "    <tr>\n",
       "      <th>460</th>\n",
       "      <td>1.00</td>\n",
       "      <td>King Maker Incline Barbell Bench Press</td>\n",
       "    </tr>\n",
       "    <tr>\n",
       "      <th>461</th>\n",
       "      <td>1.00</td>\n",
       "      <td>Spoto press</td>\n",
       "    </tr>\n",
       "    <tr>\n",
       "      <th>1136</th>\n",
       "      <td>0.75</td>\n",
       "      <td>Standing barbell shoulder press</td>\n",
       "    </tr>\n",
       "    <tr>\n",
       "      <th>1135</th>\n",
       "      <td>0.75</td>\n",
       "      <td>AM Barbell Shoulder Press</td>\n",
       "    </tr>\n",
       "    <tr>\n",
       "      <th>1134</th>\n",
       "      <td>0.75</td>\n",
       "      <td>AM Upright Row</td>\n",
       "    </tr>\n",
       "    <tr>\n",
       "      <th>1133</th>\n",
       "      <td>0.75</td>\n",
       "      <td>Single-arm barbell lateral raise</td>\n",
       "    </tr>\n",
       "    <tr>\n",
       "      <th>1132</th>\n",
       "      <td>0.75</td>\n",
       "      <td>Barbell Front Raise - Gethin Variation</td>\n",
       "    </tr>\n",
       "    <tr>\n",
       "      <th>1131</th>\n",
       "      <td>0.75</td>\n",
       "      <td>Incline Front Barbell Raise - Gethin Variation</td>\n",
=======
       "      <th>134</th>\n",
       "      <td>1.0</td>\n",
       "      <td>Standing torso twist stretch</td>\n",
       "    </tr>\n",
       "    <tr>\n",
       "      <th>136</th>\n",
       "      <td>1.0</td>\n",
       "      <td>Bear crawl</td>\n",
       "    </tr>\n",
       "    <tr>\n",
       "      <th>217</th>\n",
       "      <td>1.0</td>\n",
       "      <td>Ab wheel roll-out</td>\n",
       "    </tr>\n",
       "    <tr>\n",
       "      <th>138</th>\n",
       "      <td>1.0</td>\n",
       "      <td>Side lunge cross-body heel-touch</td>\n",
       "    </tr>\n",
       "    <tr>\n",
       "      <th>139</th>\n",
       "      <td>1.0</td>\n",
       "      <td>Alligator Crawl</td>\n",
       "    </tr>\n",
       "    <tr>\n",
       "      <th>140</th>\n",
       "      <td>1.0</td>\n",
       "      <td>Lying cross-over lower back stretch</td>\n",
       "    </tr>\n",
       "    <tr>\n",
       "      <th>216</th>\n",
       "      <td>1.0</td>\n",
       "      <td>Single-kettlebell windmill</td>\n",
       "    </tr>\n",
       "    <tr>\n",
       "      <th>142</th>\n",
       "      <td>1.0</td>\n",
       "      <td>Shoulder tap</td>\n",
       "    </tr>\n",
       "    <tr>\n",
       "      <th>143</th>\n",
       "      <td>1.0</td>\n",
       "      <td>Double crunch</td>\n",
       "    </tr>\n",
       "    <tr>\n",
       "      <th>144</th>\n",
       "      <td>1.0</td>\n",
       "      <td>Flutter kick</td>\n",
       "    </tr>\n",
       "    <tr>\n",
       "      <th>145</th>\n",
       "      <td>1.0</td>\n",
       "      <td>Sprawl</td>\n",
       "    </tr>\n",
       "    <tr>\n",
       "      <th>146</th>\n",
       "      <td>1.0</td>\n",
       "      <td>Spider plank jack</td>\n",
       "    </tr>\n",
       "    <tr>\n",
       "      <th>147</th>\n",
       "      <td>1.0</td>\n",
       "      <td>Banded jumping jack</td>\n",
       "    </tr>\n",
       "    <tr>\n",
       "      <th>148</th>\n",
       "      <td>1.0</td>\n",
       "      <td>Shin hug</td>\n",
       "    </tr>\n",
       "    <tr>\n",
       "      <th>149</th>\n",
       "      <td>1.0</td>\n",
       "      <td>FYR Bear Crawl Fire Feet</td>\n",
       "    </tr>\n",
       "    <tr>\n",
       "      <th>150</th>\n",
       "      <td>1.0</td>\n",
       "      <td>Bear crawl up-down</td>\n",
       "    </tr>\n",
       "    <tr>\n",
       "      <th>151</th>\n",
       "      <td>1.0</td>\n",
       "      <td>FYR Crab Kick</td>\n",
       "    </tr>\n",
       "    <tr>\n",
       "      <th>152</th>\n",
       "      <td>1.0</td>\n",
       "      <td>Bear crawl hold</td>\n",
       "    </tr>\n",
       "    <tr>\n",
       "      <th>153</th>\n",
       "      <td>1.0</td>\n",
       "      <td>Traveling bear crawl</td>\n",
>>>>>>> Stashed changes
       "    </tr>\n",
       "  </tbody>\n",
       "</table>\n",
       "</div>"
      ],
      "text/plain": [
<<<<<<< Updated upstream
       "      similarity                                           Title\n",
       "459         1.00                  King Maker Barbell Bench Press\n",
       "445         1.00               Barbell Bench Press - Medium Grip\n",
       "446         1.00                     Decline barbell bench press\n",
       "448         1.00         Barbell Incline Bench Press Medium-Grip\n",
       "452         1.00                 Paul Carter Incline Bench Press\n",
       "453         1.00                             Incline bench press\n",
       "455         1.00                      TBS Close-Grip Bench Press\n",
       "456         1.00                     AM Flat Bench Barbell Press\n",
       "457         1.00                                  UP Bench Press\n",
       "458         1.00                       UP Close-Grip Bench Press\n",
       "444         1.00                          Close-grip bench press\n",
       "460         1.00          King Maker Incline Barbell Bench Press\n",
       "461         1.00                                     Spoto press\n",
       "1136        0.75                 Standing barbell shoulder press\n",
       "1135        0.75                       AM Barbell Shoulder Press\n",
       "1134        0.75                                  AM Upright Row\n",
       "1133        0.75                Single-arm barbell lateral raise\n",
       "1132        0.75          Barbell Front Raise - Gethin Variation\n",
       "1131        0.75  Incline Front Barbell Raise - Gethin Variation"
      ]
     },
     "execution_count": 14,
=======
       "     similarity                                Title\n",
       "134         1.0         Standing torso twist stretch\n",
       "136         1.0                           Bear crawl\n",
       "217         1.0                    Ab wheel roll-out\n",
       "138         1.0     Side lunge cross-body heel-touch\n",
       "139         1.0                      Alligator Crawl\n",
       "140         1.0  Lying cross-over lower back stretch\n",
       "216         1.0           Single-kettlebell windmill\n",
       "142         1.0                         Shoulder tap\n",
       "143         1.0                        Double crunch\n",
       "144         1.0                         Flutter kick\n",
       "145         1.0                               Sprawl\n",
       "146         1.0                    Spider plank jack\n",
       "147         1.0                  Banded jumping jack\n",
       "148         1.0                             Shin hug\n",
       "149         1.0             FYR Bear Crawl Fire Feet\n",
       "150         1.0                   Bear crawl up-down\n",
       "151         1.0                        FYR Crab Kick\n",
       "152         1.0                      Bear crawl hold\n",
       "153         1.0                 Traveling bear crawl"
      ]
     },
     "execution_count": 1980,
>>>>>>> Stashed changes
     "metadata": {},
     "output_type": "execute_result"
    }
   ],
   "source": [
    "# Exercises similar to bench press\n",
    "recommender(df, index[0], sim_matrix)"
   ]
  },
  {
   "cell_type": "code",
   "execution_count": 15,
   "id": "38ab5e67",
   "metadata": {},
   "outputs": [],
   "source": [
    "from sklearn.feature_extraction.text import TfidfVectorizer\n",
    "from sklearn.metrics.pairwise import linear_kernel"
   ]
  },
  {
   "cell_type": "code",
   "execution_count": 16,
   "id": "7f164120",
   "metadata": {},
   "outputs": [
    {
<<<<<<< Updated upstream
=======
     "name": "stderr",
     "output_type": "stream",
     "text": [
      "/Users/thorsteinfougner/anaconda3/lib/python3.11/site-packages/IPython/core/displayhook.py:281: UserWarning: Output cache limit (currently 1000 entries) hit.\n",
      "Flushing oldest 200 entries.\n",
      "  warn('Output cache limit (currently {sz} entries) hit.\\n'\n"
     ]
    },
    {
>>>>>>> Stashed changes
     "data": {
      "text/plain": [
       "(1368, 1918)"
      ]
     },
<<<<<<< Updated upstream
     "execution_count": 16,
=======
     "execution_count": 1982,
>>>>>>> Stashed changes
     "metadata": {},
     "output_type": "execute_result"
    }
   ],
   "source": [
    "tfidf = TfidfVectorizer(stop_words=\"english\")\n",
    "overview_matrix = tfidf.fit_transform(df[\"Desc\"])\n",
    "overview_matrix.shape"
   ]
  },
  {
   "cell_type": "code",
   "execution_count": 17,
   "id": "6ad874e7",
   "metadata": {},
   "outputs": [
    {
     "name": "stdout",
     "output_type": "stream",
     "text": [
      "[[1.         0.15336265 0.1591873  0.16544597 0.12342733]\n",
      " [0.15336265 1.         0.13065926 0.9269652  0.21069478]\n",
      " [0.1591873  0.13065926 1.         0.14095379 0.0042808 ]\n",
      " [0.16544597 0.9269652  0.14095379 1.         0.22729524]\n",
      " [0.12342733 0.21069478 0.0042808  0.22729524 1.        ]]\n"
     ]
    }
   ],
   "source": [
    "similarity_matrix = linear_kernel(overview_matrix, overview_matrix)\n",
    "print(similarity_matrix[0:5,0:5])"
   ]
  },
  {
   "cell_type": "code",
   "execution_count": 18,
   "id": "ccfff244",
   "metadata": {},
   "outputs": [
    {
     "data": {
      "text/plain": [
       "Desc\n",
       "The partner plank band row is an abdominal exercise where two partners perform single-arm planks while pulling on the opposite ends of an exercise band. This technique can be done for time or reps in any ab-focused workout.                                                                                                                                                0\n",
       "The banded crunch isometric hold is an exercise targeting the abdominal muscles, particularly the rectus abdominis or \"six-pack\" muscles. The band adds resistance and continuous tension to this popular exercise.                                                                                                                                                            1\n",
       "The banded plank jack is a variation on the plank that involves moving the legs in and out for repetitions. Having a band around the thighs forces the lower body to work harder, particularly the hips and glutes. The plank jack is commonly performed as part of a bodyweight circuit, or as part of a dynamic warm-up.                                                     2\n",
       "The banded crunch is an exercise targeting the abdominal muscles, particularly the rectus abdominis or \"six-pack\" muscles. The band adds resistance and continuous tension to this popular exercise.                                                                                                                                                                           3\n",
       "The crunch is a popular core exercise targeting the rectus abdominis, or \"six-pack\" muscles, as well as the obliques. It has been the centerpiece of many ab-focused workouts, due to both its simplicity and the intense burn and mind-muscle connection it produces. It can be performed for time or reps as part of the ab-focused portion of any workout.                  4\n",
       "                                                                                                                                                                                                                                                                                                                                                                            ... \n",
       "The decline EZ-bar skullcrusher is a popular exercise targeting the triceps muscles. The angle of the bench creates a greater range of motion than flat bench skullcrushers, as well as targeting the lateral head of the muscle. This exercise is usually performed for moderate to high reps as part of an upper-body or arm-focused workout.                             1363\n",
       "The EZ-bar skullcrusher is a popular exercise targeting the triceps muscles. The EZ-bar is used more often than a straight bar. As for the name, that’s worst-case scenario. The bar should actually come down behind the head. It is usually performed for moderate to high reps as part of an upper body or arms-focused workout. No need to chase a 1RM on this move!    1364\n",
       "The EZ-bar skullcrusher is a popular exercise targeting the triceps muscles. Contrary to what the name implies, the bar should actually come down behind the head. It is usually performed for moderate to high reps as part of an upper-body or arms-focused workout.                                                                                                      1365\n",
       "The EZ-bar skullcrusher is a popular exercise targeting the triceps muscles. The EZ-bar is used more often than a straight bar. As for the name, that’s worst-case scenario. The bar should actually come down behind the head. It is usually performed for moderate to high reps as part of an upper body or arms-focused workout. No need to chase a 1RM on this move!    1366\n",
       "The EZ-bar skullcrusher is a popular exercise targeting the triceps muscles. The EZ-bar is used more often than a straight bar. As for the name, that’s worst-case scenario. The bar should actually come down behind the head. It is usually performed for moderate to high reps as part of an upper body or arms-focused workout. No need to chase a 1RM on this move!    1367\n",
       "Length: 1368, dtype: int64"
      ]
     },
<<<<<<< Updated upstream
     "execution_count": 18,
=======
     "execution_count": 1984,
>>>>>>> Stashed changes
     "metadata": {},
     "output_type": "execute_result"
    }
   ],
   "source": [
    "mapping = pd.Series(df.index, index = df[\"Desc\"])\n",
    "mapping"
   ]
  },
  {
   "cell_type": "code",
   "execution_count": 19,
   "id": "c9452c47",
   "metadata": {},
   "outputs": [],
   "source": [
    "def recommender_by_desc(exercise_input):\n",
    "    exercise_index = mapping[exercise_input]\n",
    "    similarity_score = list(enumerate(similarity_matrix[exercise_index]))\n",
    "    similarity_score = sorted(similarity_score, key=lambda x: x[1], reverse=True)\n",
    "    similarity_score = similarity_score[0:10]\n",
    "\n",
    "    exercise_indices = [i[0] for i in similarity_score]\n",
    "    return df[\"Title\"].iloc[exercise_indices]"
   ]
  },
  {
   "cell_type": "code",
   "execution_count": 20,
   "id": "d2e9db8f",
   "metadata": {},
   "outputs": [
    {
     "data": {
      "text/plain": [
<<<<<<< Updated upstream
       "0      The partner plank band row is an abdominal exe...\n",
       "795    The partner side plank band row is an abdomina...\n",
       "332    The standing band biceps curl is an arm-focuse...\n",
       "844    The band seated row is a band alternative to t...\n",
       "182    The plank up-down is a variation of the plank ...\n",
       "Name: Desc, dtype: object"
      ]
     },
     "execution_count": 20,
=======
       "0              Partner plank band row\n",
       "795       Partner side plank band row\n",
       "332         Standing band biceps curl\n",
       "844                   Band seated row\n",
       "182                     Plank up-down\n",
       "199                     Plank Push-Up\n",
       "686           Single-arm band low row\n",
       "273      Partner medicine ball sit-up\n",
       "124     Partner sit-up with high-five\n",
       "1284        Single-arm band kick-back\n",
       "Name: Title, dtype: object"
      ]
     },
     "execution_count": 1986,
>>>>>>> Stashed changes
     "metadata": {},
     "output_type": "execute_result"
    }
   ],
   "source": [
    "recommender_by_desc(df[\"Desc\"][0])"
   ]
  },
  {
   "cell_type": "code",
   "execution_count": 21,
   "id": "ef7dcc27",
   "metadata": {},
   "outputs": [
    {
     "data": {
      "text/html": [
       "<div>\n",
       "<style scoped>\n",
       "    .dataframe tbody tr th:only-of-type {\n",
       "        vertical-align: middle;\n",
       "    }\n",
       "\n",
       "    .dataframe tbody tr th {\n",
       "        vertical-align: top;\n",
       "    }\n",
       "\n",
       "    .dataframe thead th {\n",
       "        text-align: right;\n",
       "    }\n",
       "</style>\n",
       "<table border=\"1\" class=\"dataframe\">\n",
       "  <thead>\n",
       "    <tr style=\"text-align: right;\">\n",
       "      <th></th>\n",
       "      <th>userId</th>\n",
       "      <th>title</th>\n",
       "      <th>rating</th>\n",
       "    </tr>\n",
       "  </thead>\n",
       "  <tbody>\n",
       "    <tr>\n",
       "      <th>0</th>\n",
       "      <td>1</td>\n",
       "      <td>AM Decline Abs</td>\n",
       "      <td>4.6</td>\n",
       "    </tr>\n",
       "    <tr>\n",
       "      <th>1</th>\n",
       "      <td>1</td>\n",
       "      <td>Skip</td>\n",
       "      <td>4.3</td>\n",
       "    </tr>\n",
       "    <tr>\n",
       "      <th>2</th>\n",
       "      <td>1</td>\n",
       "      <td>Child's pose</td>\n",
       "      <td>2.5</td>\n",
       "    </tr>\n",
       "    <tr>\n",
       "      <th>3</th>\n",
       "      <td>1</td>\n",
       "      <td>Barbell glute bridge</td>\n",
       "      <td>4.6</td>\n",
       "    </tr>\n",
       "    <tr>\n",
       "      <th>4</th>\n",
       "      <td>1</td>\n",
       "      <td>Tire flip</td>\n",
       "      <td>3.7</td>\n",
       "    </tr>\n",
       "  </tbody>\n",
       "</table>\n",
       "</div>"
      ],
      "text/plain": [
       "   userId                 title  rating\n",
       "0       1        AM Decline Abs     4.6\n",
       "1       1                  Skip     4.3\n",
       "2       1          Child's pose     2.5\n",
       "3       1  Barbell glute bridge     4.6\n",
       "4       1             Tire flip     3.7"
      ]
     },
<<<<<<< Updated upstream
     "execution_count": 21,
=======
     "execution_count": 1987,
>>>>>>> Stashed changes
     "metadata": {},
     "output_type": "execute_result"
    }
   ],
   "source": [
    "df_users = pd.read_csv('user_exercise_ratings.csv')\n",
    "\n",
    "df_users.head()"
   ]
  }
 ],
 "metadata": {
  "kernelspec": {
   "display_name": "Python 3 (ipykernel)",
   "language": "python",
   "name": "python3"
  },
  "language_info": {
   "codemirror_mode": {
    "name": "ipython",
    "version": 3
   },
   "file_extension": ".py",
   "mimetype": "text/x-python",
   "name": "python",
   "nbconvert_exporter": "python",
   "pygments_lexer": "ipython3",
   "version": "3.11.5"
  }
 },
 "nbformat": 4,
 "nbformat_minor": 5
}
