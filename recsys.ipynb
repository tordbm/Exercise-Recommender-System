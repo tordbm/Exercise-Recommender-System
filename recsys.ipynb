{
 "cells": [
  {
   "cell_type": "code",
   "execution_count": null,
   "id": "f169cb74",
   "metadata": {},
   "outputs": [],
   "source": [
    "import pandas as pd\n",
    "import matplotlib.pyplot as plt"
   ]
  },
  {
   "cell_type": "code",
   "execution_count": null,
   "id": "4001c30d",
   "metadata": {},
   "outputs": [],
   "source": [
    "# Importing the dataset\n",
    "df = pd.read_csv(\"megaGymDataset.csv\")\n",
    "df = df.rename(columns={'Unnamed: 0': 'index'})\n",
    "df"
   ]
  },
  {
   "cell_type": "code",
   "execution_count": null,
   "id": "2fd33a06",
   "metadata": {},
   "outputs": [],
   "source": [
    "#Cheking if there is any NULL or missing values\n",
    "df.isna().sum()"
   ]
  },
  {
   "cell_type": "code",
   "execution_count": null,
   "id": "403c7d8a",
   "metadata": {},
   "outputs": [],
   "source": [
    "# DATA ANALYSIS\n",
    "\n",
    "# Some exercises has the same title - Should remove duplicates?\n",
    "# df = df.drop_duplicates('Title', keep='last')\n",
    "df['Title'].value_counts()"
   ]
  },
  {
   "cell_type": "code",
   "execution_count": null,
   "id": "29fc83db",
   "metadata": {},
   "outputs": [],
   "source": [
    "# Sorted bv level\n",
    "df['Level'].value_counts().plot.barh()"
   ]
  },
  {
   "cell_type": "code",
   "execution_count": null,
   "id": "4e3dc3e4",
   "metadata": {},
   "outputs": [],
   "source": [
    "# sorted by type\n",
    "df['Type'].value_counts().plot.barh()"
   ]
  },
  {
   "cell_type": "code",
   "execution_count": null,
   "id": "f9e0bb5a",
   "metadata": {},
   "outputs": [],
   "source": [
    "# sorted by bodypart\n",
    "df['BodyPart'].value_counts().plot.barh()"
   ]
  },
  {
   "cell_type": "code",
   "execution_count": null,
   "id": "bf387ad0",
   "metadata": {},
   "outputs": [],
   "source": [
    "# top rated exercises\n",
    "ratingSorted= df.sort_values(by='Rating',ascending=False)\n",
    "ratingSorted =ratingSorted.head(10)\n",
    "ratingSorted"
   ]
  },
  {
   "cell_type": "code",
   "execution_count": null,
   "id": "d443051b",
   "metadata": {},
   "outputs": [],
   "source": [
    "# Prints the row of the given Title to find the index\n",
    "print(df[df[\"Title\"] == \"Bench press\"])\n",
    "df.loc[df['Title'] == \"Bench press\", 'Rating'] = 10\n",
    "print(df[df[\"Title\"] == \"Bench press\"])"
   ]
  },
  {
   "cell_type": "code",
   "execution_count": null,
   "id": "7ce6d25a",
   "metadata": {},
   "outputs": [],
   "source": [
    "import matplotlib.pyplot as plt\n",
    "\n",
    "# Your code to create the bar chart\n",
    "plt.figure(figsize=(6, 6))\n",
    "df['Rating'].value_counts().plot.barh()\n",
    "plt.yticks([])\n",
    "plt.ylabel('Rating')\n",
    "plt.xlabel('Amount')\n",
    "\n",
    "# Add labels at the highest and lowest data points on the y-axis\n",
    "plt.text(-5, 70, 0, ha='center')\n",
    "plt.text(-5, 0, 10, ha='center')\n",
    "\n",
    "plt.show()\n"
   ]
  },
  {
   "cell_type": "code",
   "execution_count": null,
   "id": "753ff69a",
   "metadata": {},
   "outputs": [],
   "source": [
    "from sklearn.model_selection import train_test_split\n",
    "from sklearn.neighbors import KNeighborsClassifier\n",
    "from sklearn.neighbors import KNeighborsRegressor\n",
    "from sklearn.metrics import confusion_matrix\n",
    "from copy import deepcopy\n",
    "import numpy as np\n",
    "\n",
    "# Datasett for trening. Gjør om strenger til kategorier (int)\n",
    "x = deepcopy(df)\n",
    "x = x.drop([\"Title\"], axis = 1)\n",
    "x = x.drop([\"Desc\"], axis = 1)\n",
    "x = x.drop([\"RatingDesc\"], axis = 1)\n",
    "x['Level'] = pd.factorize(x['Level'])[0]\n",
    "x['Type'] = pd.factorize(x['Type'])[0]\n",
    "x['BodyPart'] = pd.factorize(x['BodyPart'])[0]\n",
    "x['Equipment'] = pd.factorize(x['Equipment'])[0]\n",
    "x = x[x['Rating'].notna()]\n",
    "x = x[df[\"Rating\"] != 0]\n",
    "# Verdier som skal predikeres, brukes for trening og testing\n",
    "y = x[\"Rating\"]\n",
    "#y = y.round(0)\n",
    "#y = y.astype(int)\n",
    "x = x.drop([\"Rating\"], axis = 1)\n",
    "#y=y.replace(0,1)\n",
    "#y=y.replace(0.0,1)\n",
    "#y=y.replace(np.nan,1)\n",
    "\n",
    "# Train test split\n",
    "X_train, X_test, y_train, y_test = train_test_split(x, y, test_size=0.2, random_state=3)\n",
    "\n",
    "# Grid search for å finne beste params\n",
    "from sklearn.model_selection import GridSearchCV\n",
    "'''\n",
    "param_grid = {\n",
    "    'n_neighbors': [3,5,7,9,11,13,15,17],\n",
    "    'p': [1, 2]\n",
    "}\n",
    "grid_search = GridSearchCV(estimator=KNeighborsClassifier(), param_grid=param_grid, scoring='accuracy', cv=5)\n",
    "grid_search.fit(X_train, y_train)\n",
    "params = grid_search.best_params_\n",
    "'''\n",
    "param_grid = {\n",
    "    'n_neighbors': [3,5,7,9,11,13,15,17],\n",
    "    'p': [1, 2]\n",
    "}\n",
    "grid_search = GridSearchCV(estimator=KNeighborsRegressor(), param_grid=param_grid, scoring='accuracy', cv=5)\n",
    "grid_search.fit(X_train, y_train)\n",
    "params = grid_search.best_params_\n",
    "print(params)\n",
    "\n",
    "# Traiing\n",
    "knn = KNeighborsRegressor(n_neighbors = params['n_neighbors'], p = params[\"p\"])\n",
    "knn.fit(X_train, y_train)\n",
    "\n",
    "\n",
    "# Ny variabel X. Alle rader fra dataframe som ikke har rating\n",
    "x = deepcopy(df)\n",
    "# Ekskluderer øvelser med ratings\n",
    "x = x[x[\"Rating\"].isna()]\n",
    "\n",
    "# Gjør om strenger til kategorier (int) for prediction\n",
    "x = x.drop([\"Rating\"], axis = 1)\n",
    "x = x.drop([\"Title\"], axis = 1)\n",
    "x = x.drop([\"Desc\"], axis = 1)\n",
    "x = x.drop([\"RatingDesc\"], axis = 1)\n",
    "x['Level'] = pd.factorize(x['Level'])[0]\n",
    "x['Type'] = pd.factorize(x['Type'])[0]\n",
    "x['BodyPart'] = pd.factorize(x['BodyPart'])[0]\n",
    "x['Equipment'] = pd.factorize(x['Equipment'])[0]\n",
    "\n",
    "# Antall nonvalues\n",
    "print(\"Nonvalues rating før:\",df[\"Rating\"].isna().sum())\n",
    "\n",
    "# Predikerer en rating for hver rad i dataframe som ikke har rating\n",
    "for index, row in x.iterrows():\n",
    "    rating = knn.predict([row])\n",
    "    #print(row[\"index\"], rating)\n",
    "    df.loc[df['index'] == index, 'Rating'] = rating\n",
    "\n",
    "print(\"Nonvalues rating etter\",df[\"Rating\"].isna().sum())\n",
    "\n",
    "filtered_df = df[df[\"Rating\"] == 0]\n",
    "print(len(filtered_df))"
   ]
  },
  {
   "cell_type": "code",
   "execution_count": null,
   "id": "e7d3a263",
   "metadata": {},
   "outputs": [],
   "source": [
    "import matplotlib.pyplot as plt\n",
    "\n",
    "# Your code to create the bar chart\n",
    "plt.figure(figsize=(6, 6))\n",
    "df['Rating'].value_counts().plot.barh()\n",
    "plt.yticks([])\n",
    "plt.ylabel('Rating')\n",
    "plt.xlabel('Amount')\n",
    "\n",
    "# Add labels at the highest and lowest data points on the y-axis\n",
    "plt.text(-5, 172, 0, ha='center')\n",
    "plt.text(-5, 0, 10, ha='center')\n",
    "\n",
    "plt.show()\n"
   ]
  },
  {
   "cell_type": "code",
   "execution_count": null,
   "id": "f4f4b8e4",
   "metadata": {},
   "outputs": [],
   "source": [
    "#print(x[\"Rating\"])\n",
    "#import numpy as np\n",
    "#print(x[\"Rating\"].dtypes)\n",
    "#x = x[x[\"Rating\"].isna()]\n",
    "#print(x[\"Rating\"])"
   ]
  },
  {
   "cell_type": "code",
   "execution_count": null,
   "id": "55ae6ec9",
   "metadata": {},
   "outputs": [],
   "source": [
    "# Removing columns with lots of nonvalues\n",
    "#df = df.drop('Rating', axis=1)\n",
    "df = df.drop('RatingDesc', axis=1)\n",
    "# Removing all rows containing nonvalues in description\n",
    "df = df[df['Desc'].notna()]\n",
    "#df = df[df['Rating'].notna()]\n",
    "# Removing ID column\n",
    "df.pop(df.columns[0])\n",
    "\n"
   ]
  },
  {
   "cell_type": "code",
   "execution_count": null,
   "id": "d61d5987",
   "metadata": {},
   "outputs": [],
   "source": [
    "# Checking datatypes\n",
    "df.dtypes"
   ]
  },
  {
   "cell_type": "code",
   "execution_count": null,
   "id": "f2546d29",
   "metadata": {},
   "outputs": [],
   "source": [
    "# Merging columns for cosign similarity and dropping excess columns\n",
    "df[\"Merged\"] = df[\"Type\"].astype(str) + '|' + \\\n",
    "  df[\"BodyPart\"].astype(str) + '|' + df[\"Equipment\"].astype(str) + '|' + \\\n",
    "  df[\"Level\"]\n",
    "\n",
    "df = df.drop('Type', axis=1)\n",
    "df = df.drop('BodyPart', axis=1)\n",
    "df = df.drop('Equipment', axis=1)\n",
    "df = df.drop('Level', axis=1)"
   ]
  },
  {
   "cell_type": "code",
   "execution_count": null,
   "id": "9a6dd1c5",
   "metadata": {},
   "outputs": [],
   "source": [
    "# The merged columns\n",
    "df[\"Merged\"]"
   ]
  },
  {
   "cell_type": "code",
   "execution_count": null,
   "id": "dfb7e4ee",
   "metadata": {},
   "outputs": [],
   "source": [
    "# Converting values of the merged column into vectors\n",
    "\n",
    "from sklearn.feature_extraction.text import CountVectorizer\n",
    "count = CountVectorizer()\n",
    "count_matrix = count.fit_transform(df.loc[:,\"Merged\"])\n",
    "\n",
    "liste = count_matrix.toarray()"
   ]
  },
  {
   "cell_type": "code",
   "execution_count": null,
   "id": "30da5135",
   "metadata": {},
   "outputs": [],
   "source": [
    "# Cosine similarity\n",
    "from sklearn.metrics.pairwise import cosine_similarity\n",
    "sim_matrix = cosine_similarity(count_matrix, count_matrix)"
   ]
  },
  {
   "cell_type": "code",
   "execution_count": null,
   "id": "c728acee",
   "metadata": {},
   "outputs": [],
   "source": [
    "#sim_matrix"
   ]
  },
  {
   "cell_type": "code",
   "execution_count": null,
   "id": "d8bf3c95",
   "metadata": {},
   "outputs": [],
   "source": [
    "# Resetting the index to avoid indexing errors and NAN values in recommender\n",
    "# This makes the previous indexes invalid\n",
    "# \"drop\" avoids adding the old index as a column\n",
    "df = df.reset_index(drop = False)"
   ]
  },
  {
   "cell_type": "code",
   "execution_count": null,
   "id": "46fe3aca",
   "metadata": {},
   "outputs": [],
   "source": [
    "def recommender(data_frame, exercise_id, sim_matrix):\n",
    "    sim_df = pd.DataFrame(sim_matrix[exercise_id],\n",
    "                         columns=[\"similarity\"])\n",
    "    exercise_titles = data_frame.loc[:, \"Title\"]\n",
    "    exercise_rec = pd.concat([sim_df, exercise_titles], axis = 1)\n",
    "\n",
    "    exercise_rec = exercise_rec.sort_values(by=[\"similarity\"], ascending = False)\n",
    "\n",
    "    return exercise_rec.iloc[1:20,:]"
   ]
  },
  {
   "cell_type": "code",
   "execution_count": null,
   "id": "68d7fc4a",
   "metadata": {},
   "outputs": [],
   "source": [
    "# Prints the row of the given Title to find the index\n",
    "row = df[df[\"Title\"] == \"Bench press\"]\n",
    "index = row.index"
   ]
  },
  {
   "cell_type": "code",
   "execution_count": null,
   "id": "c691750a",
   "metadata": {},
   "outputs": [],
   "source": [
    "# Exercises similar to bench press\n",
    "recommender(df, index[0], sim_matrix)"
   ]
  },
  {
   "cell_type": "code",
   "execution_count": null,
   "id": "38ab5e67",
   "metadata": {},
   "outputs": [],
   "source": [
    "from sklearn.feature_extraction.text import TfidfVectorizer\n",
    "from sklearn.metrics.pairwise import linear_kernel"
   ]
  },
  {
   "cell_type": "code",
   "execution_count": null,
   "id": "7f164120",
   "metadata": {},
   "outputs": [],
   "source": [
    "tfidf = TfidfVectorizer(stop_words=\"english\")\n",
    "overview_matrix = tfidf.fit_transform(df[\"Desc\"])\n",
    "overview_matrix.shape"
   ]
  },
  {
   "cell_type": "code",
   "execution_count": null,
   "id": "6ad874e7",
   "metadata": {},
   "outputs": [],
   "source": [
    "similarity_matrix = linear_kernel(overview_matrix, overview_matrix)\n",
    "print(similarity_matrix[0:5,0:5])"
   ]
  },
  {
   "cell_type": "code",
   "execution_count": null,
   "id": "ccfff244",
   "metadata": {},
   "outputs": [],
   "source": [
    "mapping = pd.Series(df.index, index = df[\"Desc\"])\n",
    "mapping"
   ]
  },
  {
   "cell_type": "code",
   "execution_count": null,
   "id": "c9452c47",
   "metadata": {},
   "outputs": [],
   "source": [
    "def recommender_by_desc(exercise_input):\n",
    "    exercise_index = mapping[exercise_input]\n",
    "    similarity_score = list(enumerate(similarity_matrix[exercise_index]))\n",
    "    similarity_score = sorted(similarity_score, key=lambda x: x[1], reverse=True)\n",
    "    similarity_score = similarity_score[0:10]\n",
    "\n",
    "    exercise_indices = [i[0] for i in similarity_score]\n",
    "    return df[\"Title\"].iloc[exercise_indices]"
   ]
  },
  {
   "cell_type": "code",
   "execution_count": null,
   "id": "d2e9db8f",
   "metadata": {},
   "outputs": [],
   "source": [
    "recommender_by_desc(df[\"Desc\"][0])"
   ]
  },
  {
   "cell_type": "code",
   "execution_count": null,
   "id": "ef7dcc27",
   "metadata": {},
   "outputs": [],
   "source": [
    "df_users = pd.read_csv('user_exercise_ratings.csv')\n",
    "\n",
    "df_users.head()"
   ]
  }
 ],
 "metadata": {
  "kernelspec": {
   "display_name": "Python 3 (ipykernel)",
   "language": "python",
   "name": "python3"
  },
  "language_info": {
   "codemirror_mode": {
    "name": "ipython",
    "version": 3
   },
   "file_extension": ".py",
   "mimetype": "text/x-python",
   "name": "python",
   "nbconvert_exporter": "python",
   "pygments_lexer": "ipython3",
   "version": "3.11.5"
  }
 },
 "nbformat": 4,
 "nbformat_minor": 5
}
